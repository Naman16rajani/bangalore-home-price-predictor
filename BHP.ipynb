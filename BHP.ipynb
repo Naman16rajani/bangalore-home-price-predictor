{
 "cells": [
  {
   "cell_type": "code",
   "execution_count": 1,
   "metadata": {
    "collapsed": true,
    "ExecuteTime": {
     "end_time": "2023-05-24T10:02:55.664624Z",
     "start_time": "2023-05-24T10:02:53.281809Z"
    }
   },
   "outputs": [],
   "source": [
    "import pandas as pd\n",
    "import matplotlib.pyplot as plt\n",
    "%matplotlib inline\n",
    "import numpy as np\n",
    "import matplotlib"
   ]
  },
  {
   "cell_type": "code",
   "execution_count": 2,
   "outputs": [
    {
     "data": {
      "text/plain": "              area_type   availability                  location       size   \n0  Super built-up  Area         19-Dec  Electronic City Phase II      2 BHK  \\\n1            Plot  Area  Ready To Move          Chikka Tirupathi  4 Bedroom   \n2        Built-up  Area  Ready To Move               Uttarahalli      3 BHK   \n3  Super built-up  Area  Ready To Move        Lingadheeranahalli      3 BHK   \n4  Super built-up  Area  Ready To Move                  Kothanur      2 BHK   \n\n   society total_sqft  bath  balcony   price  \n0  Coomee        1056   2.0      1.0   39.07  \n1  Theanmp       2600   5.0      3.0  120.00  \n2      NaN       1440   2.0      3.0   62.00  \n3  Soiewre       1521   3.0      1.0   95.00  \n4      NaN       1200   2.0      1.0   51.00  ",
      "text/html": "<div>\n<style scoped>\n    .dataframe tbody tr th:only-of-type {\n        vertical-align: middle;\n    }\n\n    .dataframe tbody tr th {\n        vertical-align: top;\n    }\n\n    .dataframe thead th {\n        text-align: right;\n    }\n</style>\n<table border=\"1\" class=\"dataframe\">\n  <thead>\n    <tr style=\"text-align: right;\">\n      <th></th>\n      <th>area_type</th>\n      <th>availability</th>\n      <th>location</th>\n      <th>size</th>\n      <th>society</th>\n      <th>total_sqft</th>\n      <th>bath</th>\n      <th>balcony</th>\n      <th>price</th>\n    </tr>\n  </thead>\n  <tbody>\n    <tr>\n      <th>0</th>\n      <td>Super built-up  Area</td>\n      <td>19-Dec</td>\n      <td>Electronic City Phase II</td>\n      <td>2 BHK</td>\n      <td>Coomee</td>\n      <td>1056</td>\n      <td>2.0</td>\n      <td>1.0</td>\n      <td>39.07</td>\n    </tr>\n    <tr>\n      <th>1</th>\n      <td>Plot  Area</td>\n      <td>Ready To Move</td>\n      <td>Chikka Tirupathi</td>\n      <td>4 Bedroom</td>\n      <td>Theanmp</td>\n      <td>2600</td>\n      <td>5.0</td>\n      <td>3.0</td>\n      <td>120.00</td>\n    </tr>\n    <tr>\n      <th>2</th>\n      <td>Built-up  Area</td>\n      <td>Ready To Move</td>\n      <td>Uttarahalli</td>\n      <td>3 BHK</td>\n      <td>NaN</td>\n      <td>1440</td>\n      <td>2.0</td>\n      <td>3.0</td>\n      <td>62.00</td>\n    </tr>\n    <tr>\n      <th>3</th>\n      <td>Super built-up  Area</td>\n      <td>Ready To Move</td>\n      <td>Lingadheeranahalli</td>\n      <td>3 BHK</td>\n      <td>Soiewre</td>\n      <td>1521</td>\n      <td>3.0</td>\n      <td>1.0</td>\n      <td>95.00</td>\n    </tr>\n    <tr>\n      <th>4</th>\n      <td>Super built-up  Area</td>\n      <td>Ready To Move</td>\n      <td>Kothanur</td>\n      <td>2 BHK</td>\n      <td>NaN</td>\n      <td>1200</td>\n      <td>2.0</td>\n      <td>1.0</td>\n      <td>51.00</td>\n    </tr>\n  </tbody>\n</table>\n</div>"
     },
     "execution_count": 2,
     "metadata": {},
     "output_type": "execute_result"
    }
   ],
   "source": [
    "df1 = pd.read_csv(\"BHData.csv\")\n",
    "df1.head()"
   ],
   "metadata": {
    "collapsed": false,
    "ExecuteTime": {
     "end_time": "2023-05-24T10:02:55.819624Z",
     "start_time": "2023-05-24T10:02:55.668423Z"
    }
   }
  },
  {
   "cell_type": "code",
   "execution_count": 3,
   "outputs": [
    {
     "data": {
      "text/plain": "(13320, 9)"
     },
     "execution_count": 3,
     "metadata": {},
     "output_type": "execute_result"
    }
   ],
   "source": [
    "df1.shape"
   ],
   "metadata": {
    "collapsed": false,
    "ExecuteTime": {
     "end_time": "2023-05-24T10:02:55.824345Z",
     "start_time": "2023-05-24T10:02:55.773917Z"
    }
   }
  },
  {
   "cell_type": "code",
   "execution_count": 4,
   "outputs": [
    {
     "data": {
      "text/plain": "Index(['area_type', 'availability', 'location', 'size', 'society',\n       'total_sqft', 'bath', 'balcony', 'price'],\n      dtype='object')"
     },
     "execution_count": 4,
     "metadata": {},
     "output_type": "execute_result"
    }
   ],
   "source": [
    "df1.columns"
   ],
   "metadata": {
    "collapsed": false,
    "ExecuteTime": {
     "end_time": "2023-05-24T10:02:55.949117Z",
     "start_time": "2023-05-24T10:02:55.796721Z"
    }
   }
  },
  {
   "cell_type": "code",
   "execution_count": 5,
   "outputs": [
    {
     "data": {
      "text/plain": "area_type\nSuper built-up  Area    8790\nBuilt-up  Area          2418\nPlot  Area              2025\nCarpet  Area              87\nName: count, dtype: int64"
     },
     "execution_count": 5,
     "metadata": {},
     "output_type": "execute_result"
    }
   ],
   "source": [
    "df1[\"area_type\"].value_counts()"
   ],
   "metadata": {
    "collapsed": false,
    "ExecuteTime": {
     "end_time": "2023-05-24T10:02:55.950778Z",
     "start_time": "2023-05-24T10:02:55.820460Z"
    }
   }
  },
  {
   "cell_type": "code",
   "execution_count": 6,
   "outputs": [],
   "source": [
    "df1=df1.drop(columns=[\"availability\",\"balcony\",\"area_type\",\"society\"])"
   ],
   "metadata": {
    "collapsed": false,
    "ExecuteTime": {
     "end_time": "2023-05-24T10:02:56.040353Z",
     "start_time": "2023-05-24T10:02:55.842091Z"
    }
   }
  },
  {
   "cell_type": "code",
   "execution_count": 7,
   "outputs": [
    {
     "data": {
      "text/plain": "                       location       size total_sqft  bath   price\n0      Electronic City Phase II      2 BHK       1056   2.0   39.07\n1              Chikka Tirupathi  4 Bedroom       2600   5.0  120.00\n2                   Uttarahalli      3 BHK       1440   2.0   62.00\n3            Lingadheeranahalli      3 BHK       1521   3.0   95.00\n4                      Kothanur      2 BHK       1200   2.0   51.00\n...                         ...        ...        ...   ...     ...\n13315                Whitefield  5 Bedroom       3453   4.0  231.00\n13316             Richards Town      4 BHK       3600   5.0  400.00\n13317     Raja Rajeshwari Nagar      2 BHK       1141   2.0   60.00\n13318           Padmanabhanagar      4 BHK       4689   4.0  488.00\n13319              Doddathoguru      1 BHK        550   1.0   17.00\n\n[13320 rows x 5 columns]",
      "text/html": "<div>\n<style scoped>\n    .dataframe tbody tr th:only-of-type {\n        vertical-align: middle;\n    }\n\n    .dataframe tbody tr th {\n        vertical-align: top;\n    }\n\n    .dataframe thead th {\n        text-align: right;\n    }\n</style>\n<table border=\"1\" class=\"dataframe\">\n  <thead>\n    <tr style=\"text-align: right;\">\n      <th></th>\n      <th>location</th>\n      <th>size</th>\n      <th>total_sqft</th>\n      <th>bath</th>\n      <th>price</th>\n    </tr>\n  </thead>\n  <tbody>\n    <tr>\n      <th>0</th>\n      <td>Electronic City Phase II</td>\n      <td>2 BHK</td>\n      <td>1056</td>\n      <td>2.0</td>\n      <td>39.07</td>\n    </tr>\n    <tr>\n      <th>1</th>\n      <td>Chikka Tirupathi</td>\n      <td>4 Bedroom</td>\n      <td>2600</td>\n      <td>5.0</td>\n      <td>120.00</td>\n    </tr>\n    <tr>\n      <th>2</th>\n      <td>Uttarahalli</td>\n      <td>3 BHK</td>\n      <td>1440</td>\n      <td>2.0</td>\n      <td>62.00</td>\n    </tr>\n    <tr>\n      <th>3</th>\n      <td>Lingadheeranahalli</td>\n      <td>3 BHK</td>\n      <td>1521</td>\n      <td>3.0</td>\n      <td>95.00</td>\n    </tr>\n    <tr>\n      <th>4</th>\n      <td>Kothanur</td>\n      <td>2 BHK</td>\n      <td>1200</td>\n      <td>2.0</td>\n      <td>51.00</td>\n    </tr>\n    <tr>\n      <th>...</th>\n      <td>...</td>\n      <td>...</td>\n      <td>...</td>\n      <td>...</td>\n      <td>...</td>\n    </tr>\n    <tr>\n      <th>13315</th>\n      <td>Whitefield</td>\n      <td>5 Bedroom</td>\n      <td>3453</td>\n      <td>4.0</td>\n      <td>231.00</td>\n    </tr>\n    <tr>\n      <th>13316</th>\n      <td>Richards Town</td>\n      <td>4 BHK</td>\n      <td>3600</td>\n      <td>5.0</td>\n      <td>400.00</td>\n    </tr>\n    <tr>\n      <th>13317</th>\n      <td>Raja Rajeshwari Nagar</td>\n      <td>2 BHK</td>\n      <td>1141</td>\n      <td>2.0</td>\n      <td>60.00</td>\n    </tr>\n    <tr>\n      <th>13318</th>\n      <td>Padmanabhanagar</td>\n      <td>4 BHK</td>\n      <td>4689</td>\n      <td>4.0</td>\n      <td>488.00</td>\n    </tr>\n    <tr>\n      <th>13319</th>\n      <td>Doddathoguru</td>\n      <td>1 BHK</td>\n      <td>550</td>\n      <td>1.0</td>\n      <td>17.00</td>\n    </tr>\n  </tbody>\n</table>\n<p>13320 rows × 5 columns</p>\n</div>"
     },
     "execution_count": 7,
     "metadata": {},
     "output_type": "execute_result"
    }
   ],
   "source": [
    "df1"
   ],
   "metadata": {
    "collapsed": false,
    "ExecuteTime": {
     "end_time": "2023-05-24T10:02:56.134085Z",
     "start_time": "2023-05-24T10:02:55.867767Z"
    }
   }
  },
  {
   "cell_type": "code",
   "execution_count": 8,
   "outputs": [
    {
     "data": {
      "text/plain": "location       1\nsize          16\ntotal_sqft     0\nbath          73\nprice          0\ndtype: int64"
     },
     "execution_count": 8,
     "metadata": {},
     "output_type": "execute_result"
    }
   ],
   "source": [
    "df1.isnull().sum()"
   ],
   "metadata": {
    "collapsed": false,
    "ExecuteTime": {
     "end_time": "2023-05-24T10:02:56.173539Z",
     "start_time": "2023-05-24T10:02:55.883116Z"
    }
   }
  },
  {
   "cell_type": "code",
   "execution_count": 9,
   "outputs": [
    {
     "data": {
      "text/plain": "location      0\nsize          0\ntotal_sqft    0\nbath          0\nprice         0\ndtype: int64"
     },
     "execution_count": 9,
     "metadata": {},
     "output_type": "execute_result"
    }
   ],
   "source": [
    "df2=df1.dropna()\n",
    "df2.isnull().sum()"
   ],
   "metadata": {
    "collapsed": false,
    "ExecuteTime": {
     "end_time": "2023-05-24T10:02:56.175952Z",
     "start_time": "2023-05-24T10:02:55.900856Z"
    }
   }
  },
  {
   "cell_type": "code",
   "execution_count": 10,
   "outputs": [
    {
     "data": {
      "text/plain": "size\n2 BHK         5198\n3 BHK         4286\n4 Bedroom      818\n4 BHK          577\n3 Bedroom      546\n1 BHK          531\n2 Bedroom      329\n5 Bedroom      296\n6 Bedroom      191\n1 Bedroom      105\n8 Bedroom       84\n7 Bedroom       83\n5 BHK           57\n9 Bedroom       46\n6 BHK           30\n7 BHK           17\n1 RK            13\n10 Bedroom      12\n9 BHK            8\n8 BHK            5\n11 BHK           2\n11 Bedroom       2\n10 BHK           2\n14 BHK           1\n13 BHK           1\n12 Bedroom       1\n27 BHK           1\n43 Bedroom       1\n16 BHK           1\n19 BHK           1\n18 Bedroom       1\nName: count, dtype: int64"
     },
     "execution_count": 10,
     "metadata": {},
     "output_type": "execute_result"
    }
   ],
   "source": [
    "df2[\"size\"].value_counts()"
   ],
   "metadata": {
    "collapsed": false,
    "ExecuteTime": {
     "end_time": "2023-05-24T10:02:56.269366Z",
     "start_time": "2023-05-24T10:02:55.944773Z"
    }
   }
  },
  {
   "cell_type": "markdown",
   "source": [],
   "metadata": {
    "collapsed": false
   }
  },
  {
   "cell_type": "code",
   "execution_count": 11,
   "outputs": [
    {
     "name": "stderr",
     "output_type": "stream",
     "text": [
      "/var/folders/k0/5bm0dfz51t1g5_1stq98zglw0000gn/T/ipykernel_13432/3285892691.py:1: SettingWithCopyWarning: \n",
      "A value is trying to be set on a copy of a slice from a DataFrame.\n",
      "Try using .loc[row_indexer,col_indexer] = value instead\n",
      "\n",
      "See the caveats in the documentation: https://pandas.pydata.org/pandas-docs/stable/user_guide/indexing.html#returning-a-view-versus-a-copy\n",
      "  df2[\"bhk\"] = df2[\"size\"].apply(lambda x: int(x.split(\" \")[0]))\n"
     ]
    },
    {
     "data": {
      "text/plain": "                       location       size total_sqft  bath   price  bhk\n0      Electronic City Phase II      2 BHK       1056   2.0   39.07    2\n1              Chikka Tirupathi  4 Bedroom       2600   5.0  120.00    4\n2                   Uttarahalli      3 BHK       1440   2.0   62.00    3\n3            Lingadheeranahalli      3 BHK       1521   3.0   95.00    3\n4                      Kothanur      2 BHK       1200   2.0   51.00    2\n...                         ...        ...        ...   ...     ...  ...\n13315                Whitefield  5 Bedroom       3453   4.0  231.00    5\n13316             Richards Town      4 BHK       3600   5.0  400.00    4\n13317     Raja Rajeshwari Nagar      2 BHK       1141   2.0   60.00    2\n13318           Padmanabhanagar      4 BHK       4689   4.0  488.00    4\n13319              Doddathoguru      1 BHK        550   1.0   17.00    1\n\n[13246 rows x 6 columns]",
      "text/html": "<div>\n<style scoped>\n    .dataframe tbody tr th:only-of-type {\n        vertical-align: middle;\n    }\n\n    .dataframe tbody tr th {\n        vertical-align: top;\n    }\n\n    .dataframe thead th {\n        text-align: right;\n    }\n</style>\n<table border=\"1\" class=\"dataframe\">\n  <thead>\n    <tr style=\"text-align: right;\">\n      <th></th>\n      <th>location</th>\n      <th>size</th>\n      <th>total_sqft</th>\n      <th>bath</th>\n      <th>price</th>\n      <th>bhk</th>\n    </tr>\n  </thead>\n  <tbody>\n    <tr>\n      <th>0</th>\n      <td>Electronic City Phase II</td>\n      <td>2 BHK</td>\n      <td>1056</td>\n      <td>2.0</td>\n      <td>39.07</td>\n      <td>2</td>\n    </tr>\n    <tr>\n      <th>1</th>\n      <td>Chikka Tirupathi</td>\n      <td>4 Bedroom</td>\n      <td>2600</td>\n      <td>5.0</td>\n      <td>120.00</td>\n      <td>4</td>\n    </tr>\n    <tr>\n      <th>2</th>\n      <td>Uttarahalli</td>\n      <td>3 BHK</td>\n      <td>1440</td>\n      <td>2.0</td>\n      <td>62.00</td>\n      <td>3</td>\n    </tr>\n    <tr>\n      <th>3</th>\n      <td>Lingadheeranahalli</td>\n      <td>3 BHK</td>\n      <td>1521</td>\n      <td>3.0</td>\n      <td>95.00</td>\n      <td>3</td>\n    </tr>\n    <tr>\n      <th>4</th>\n      <td>Kothanur</td>\n      <td>2 BHK</td>\n      <td>1200</td>\n      <td>2.0</td>\n      <td>51.00</td>\n      <td>2</td>\n    </tr>\n    <tr>\n      <th>...</th>\n      <td>...</td>\n      <td>...</td>\n      <td>...</td>\n      <td>...</td>\n      <td>...</td>\n      <td>...</td>\n    </tr>\n    <tr>\n      <th>13315</th>\n      <td>Whitefield</td>\n      <td>5 Bedroom</td>\n      <td>3453</td>\n      <td>4.0</td>\n      <td>231.00</td>\n      <td>5</td>\n    </tr>\n    <tr>\n      <th>13316</th>\n      <td>Richards Town</td>\n      <td>4 BHK</td>\n      <td>3600</td>\n      <td>5.0</td>\n      <td>400.00</td>\n      <td>4</td>\n    </tr>\n    <tr>\n      <th>13317</th>\n      <td>Raja Rajeshwari Nagar</td>\n      <td>2 BHK</td>\n      <td>1141</td>\n      <td>2.0</td>\n      <td>60.00</td>\n      <td>2</td>\n    </tr>\n    <tr>\n      <th>13318</th>\n      <td>Padmanabhanagar</td>\n      <td>4 BHK</td>\n      <td>4689</td>\n      <td>4.0</td>\n      <td>488.00</td>\n      <td>4</td>\n    </tr>\n    <tr>\n      <th>13319</th>\n      <td>Doddathoguru</td>\n      <td>1 BHK</td>\n      <td>550</td>\n      <td>1.0</td>\n      <td>17.00</td>\n      <td>1</td>\n    </tr>\n  </tbody>\n</table>\n<p>13246 rows × 6 columns</p>\n</div>"
     },
     "execution_count": 11,
     "metadata": {},
     "output_type": "execute_result"
    }
   ],
   "source": [
    "df2[\"bhk\"] = df2[\"size\"].apply(lambda x: int(x.split(\" \")[0]))\n",
    "df2"
   ],
   "metadata": {
    "collapsed": false,
    "ExecuteTime": {
     "end_time": "2023-05-24T10:02:56.930702Z",
     "start_time": "2023-05-24T10:02:55.977532Z"
    }
   }
  },
  {
   "cell_type": "code",
   "execution_count": 12,
   "outputs": [],
   "source": [
    "df2=df2.drop(columns=[\"size\"])"
   ],
   "metadata": {
    "collapsed": false,
    "ExecuteTime": {
     "end_time": "2023-05-24T10:02:56.931213Z",
     "start_time": "2023-05-24T10:02:56.024037Z"
    }
   }
  },
  {
   "cell_type": "code",
   "execution_count": 13,
   "outputs": [
    {
     "data": {
      "text/plain": "location\nWhitefield           534\nSarjapur  Road       392\nElectronic City      302\nKanakpura Road       266\nThanisandra          233\n                    ... \nVidyapeeta             1\nMaruthi Extension      1\nOkalipura              1\nOld Town               1\nAbshot Layout          1\nName: count, Length: 1304, dtype: int64"
     },
     "execution_count": 13,
     "metadata": {},
     "output_type": "execute_result"
    }
   ],
   "source": [
    "df2[\"location\"].value_counts()"
   ],
   "metadata": {
    "collapsed": false,
    "ExecuteTime": {
     "end_time": "2023-05-24T10:02:56.933122Z",
     "start_time": "2023-05-24T10:02:56.041131Z"
    }
   }
  },
  {
   "cell_type": "code",
   "execution_count": 14,
   "outputs": [
    {
     "data": {
      "text/plain": "                            location total_sqft  bath  price  bhk\n459                     1 Giri Nagar       5000   9.0  360.0   11\n1718       2Electronic City Phase II       8000  27.0  230.0   27\n1768              1 Ramamurthy Nagar       1200  11.0  170.0   11\n3379                  1Hanuman Nagar       2000  16.0  490.0   19\n3609   Koramangala Industrial Layout      10000  16.0  550.0   16\n3853               1 Annasandrapalya       1200   6.0  150.0   11\n4684                     Munnekollal       2400  40.0  660.0   43\n4916                   1Channasandra       1250  15.0  125.0   14\n6533                     Mysore Road       2232   6.0  300.0   12\n7979                   1 Immadihalli       6000  12.0  150.0   11\n9935                   1Hoysalanagar       5425  13.0  275.0   13\n11559                  1Kasavanhalli       1200  18.0  200.0   18",
      "text/html": "<div>\n<style scoped>\n    .dataframe tbody tr th:only-of-type {\n        vertical-align: middle;\n    }\n\n    .dataframe tbody tr th {\n        vertical-align: top;\n    }\n\n    .dataframe thead th {\n        text-align: right;\n    }\n</style>\n<table border=\"1\" class=\"dataframe\">\n  <thead>\n    <tr style=\"text-align: right;\">\n      <th></th>\n      <th>location</th>\n      <th>total_sqft</th>\n      <th>bath</th>\n      <th>price</th>\n      <th>bhk</th>\n    </tr>\n  </thead>\n  <tbody>\n    <tr>\n      <th>459</th>\n      <td>1 Giri Nagar</td>\n      <td>5000</td>\n      <td>9.0</td>\n      <td>360.0</td>\n      <td>11</td>\n    </tr>\n    <tr>\n      <th>1718</th>\n      <td>2Electronic City Phase II</td>\n      <td>8000</td>\n      <td>27.0</td>\n      <td>230.0</td>\n      <td>27</td>\n    </tr>\n    <tr>\n      <th>1768</th>\n      <td>1 Ramamurthy Nagar</td>\n      <td>1200</td>\n      <td>11.0</td>\n      <td>170.0</td>\n      <td>11</td>\n    </tr>\n    <tr>\n      <th>3379</th>\n      <td>1Hanuman Nagar</td>\n      <td>2000</td>\n      <td>16.0</td>\n      <td>490.0</td>\n      <td>19</td>\n    </tr>\n    <tr>\n      <th>3609</th>\n      <td>Koramangala Industrial Layout</td>\n      <td>10000</td>\n      <td>16.0</td>\n      <td>550.0</td>\n      <td>16</td>\n    </tr>\n    <tr>\n      <th>3853</th>\n      <td>1 Annasandrapalya</td>\n      <td>1200</td>\n      <td>6.0</td>\n      <td>150.0</td>\n      <td>11</td>\n    </tr>\n    <tr>\n      <th>4684</th>\n      <td>Munnekollal</td>\n      <td>2400</td>\n      <td>40.0</td>\n      <td>660.0</td>\n      <td>43</td>\n    </tr>\n    <tr>\n      <th>4916</th>\n      <td>1Channasandra</td>\n      <td>1250</td>\n      <td>15.0</td>\n      <td>125.0</td>\n      <td>14</td>\n    </tr>\n    <tr>\n      <th>6533</th>\n      <td>Mysore Road</td>\n      <td>2232</td>\n      <td>6.0</td>\n      <td>300.0</td>\n      <td>12</td>\n    </tr>\n    <tr>\n      <th>7979</th>\n      <td>1 Immadihalli</td>\n      <td>6000</td>\n      <td>12.0</td>\n      <td>150.0</td>\n      <td>11</td>\n    </tr>\n    <tr>\n      <th>9935</th>\n      <td>1Hoysalanagar</td>\n      <td>5425</td>\n      <td>13.0</td>\n      <td>275.0</td>\n      <td>13</td>\n    </tr>\n    <tr>\n      <th>11559</th>\n      <td>1Kasavanhalli</td>\n      <td>1200</td>\n      <td>18.0</td>\n      <td>200.0</td>\n      <td>18</td>\n    </tr>\n  </tbody>\n</table>\n</div>"
     },
     "execution_count": 14,
     "metadata": {},
     "output_type": "execute_result"
    }
   ],
   "source": [
    "df2[df2[\"bhk\"]>10]"
   ],
   "metadata": {
    "collapsed": false,
    "ExecuteTime": {
     "end_time": "2023-05-24T10:02:56.934388Z",
     "start_time": "2023-05-24T10:02:56.061791Z"
    }
   }
  },
  {
   "cell_type": "code",
   "execution_count": 15,
   "outputs": [
    {
     "data": {
      "text/plain": "count     13246\nunique     2067\ntop        1200\nfreq        843\nName: total_sqft, dtype: object"
     },
     "execution_count": 15,
     "metadata": {},
     "output_type": "execute_result"
    }
   ],
   "source": [
    "df2[\"total_sqft\"].describe()"
   ],
   "metadata": {
    "collapsed": false,
    "ExecuteTime": {
     "end_time": "2023-05-24T10:02:56.935624Z",
     "start_time": "2023-05-24T10:02:56.110557Z"
    }
   }
  },
  {
   "cell_type": "code",
   "execution_count": 16,
   "outputs": [
    {
     "data": {
      "text/plain": "30       2100 - 2850\n122      3067 - 8156\n137      1042 - 1105\n165      1145 - 1340\n188      1015 - 1540\n            ...     \n12975     850 - 1060\n12990    1804 - 2273\n13059    1200 - 1470\n13265    1133 - 1384\n13299    2830 - 2882\nName: total_sqft, Length: 190, dtype: object"
     },
     "execution_count": 16,
     "metadata": {},
     "output_type": "execute_result"
    }
   ],
   "source": [
    "def is_float(x):\n",
    "    try:\n",
    "        float(x)\n",
    "    except:\n",
    "        return False\n",
    "    return True\n",
    "\n",
    "df2[~df2[\"total_sqft\"].apply(is_float)][\"total_sqft\"]"
   ],
   "metadata": {
    "collapsed": false,
    "ExecuteTime": {
     "end_time": "2023-05-24T10:02:56.951410Z",
     "start_time": "2023-05-24T10:02:56.127734Z"
    }
   }
  },
  {
   "cell_type": "code",
   "execution_count": 17,
   "outputs": [],
   "source": [
    "def convert_to_sqft(x):\n",
    "    tokens=x.split(\"-\")\n",
    "    if len(tokens)==2:\n",
    "        return (float(tokens[0])+float(tokens[1]))/2\n",
    "    try:\n",
    "        return float(x)\n",
    "    except:\n",
    "        return None\n",
    "\n",
    "\n",
    "convert_to_sqft(\"34.46Sq. Meter\")"
   ],
   "metadata": {
    "collapsed": false,
    "ExecuteTime": {
     "end_time": "2023-05-24T10:02:56.953298Z",
     "start_time": "2023-05-24T10:02:56.167118Z"
    }
   }
  },
  {
   "cell_type": "code",
   "execution_count": 18,
   "outputs": [],
   "source": [
    "df3 = df2.copy()\n",
    "df3[\"total_sqft\"] = df3[\"total_sqft\"].apply(convert_to_sqft)"
   ],
   "metadata": {
    "collapsed": false,
    "ExecuteTime": {
     "end_time": "2023-05-24T10:02:56.954464Z",
     "start_time": "2023-05-24T10:02:56.188167Z"
    }
   }
  },
  {
   "cell_type": "code",
   "execution_count": 19,
   "outputs": [
    {
     "data": {
      "text/plain": "location      Yelahanka\ntotal_sqft       2475.0\nbath                4.0\nprice             186.0\nbhk                   4\nName: 30, dtype: object"
     },
     "execution_count": 19,
     "metadata": {},
     "output_type": "execute_result"
    }
   ],
   "source": [
    "df3.loc[30]"
   ],
   "metadata": {
    "collapsed": false,
    "ExecuteTime": {
     "end_time": "2023-05-24T10:02:56.957512Z",
     "start_time": "2023-05-24T10:02:56.215726Z"
    }
   }
  },
  {
   "cell_type": "code",
   "execution_count": 20,
   "outputs": [
    {
     "data": {
      "text/plain": "2475.0"
     },
     "execution_count": 20,
     "metadata": {},
     "output_type": "execute_result"
    }
   ],
   "source": [
    "(2100 + 2850) /2\n"
   ],
   "metadata": {
    "collapsed": false,
    "ExecuteTime": {
     "end_time": "2023-05-24T10:02:56.958610Z",
     "start_time": "2023-05-24T10:02:56.241102Z"
    }
   }
  },
  {
   "cell_type": "code",
   "execution_count": 21,
   "outputs": [
    {
     "data": {
      "text/plain": "                       location  total_sqft  bath   price  bhk    price/sqft\n0      Electronic City Phase II      1056.0   2.0   39.07    2   3699.810606\n1              Chikka Tirupathi      2600.0   5.0  120.00    4   4615.384615\n2                   Uttarahalli      1440.0   2.0   62.00    3   4305.555556\n3            Lingadheeranahalli      1521.0   3.0   95.00    3   6245.890861\n4                      Kothanur      1200.0   2.0   51.00    2   4250.000000\n...                         ...         ...   ...     ...  ...           ...\n13315                Whitefield      3453.0   4.0  231.00    5   6689.834926\n13316             Richards Town      3600.0   5.0  400.00    4  11111.111111\n13317     Raja Rajeshwari Nagar      1141.0   2.0   60.00    2   5258.545136\n13318           Padmanabhanagar      4689.0   4.0  488.00    4  10407.336319\n13319              Doddathoguru       550.0   1.0   17.00    1   3090.909091\n\n[13246 rows x 6 columns]",
      "text/html": "<div>\n<style scoped>\n    .dataframe tbody tr th:only-of-type {\n        vertical-align: middle;\n    }\n\n    .dataframe tbody tr th {\n        vertical-align: top;\n    }\n\n    .dataframe thead th {\n        text-align: right;\n    }\n</style>\n<table border=\"1\" class=\"dataframe\">\n  <thead>\n    <tr style=\"text-align: right;\">\n      <th></th>\n      <th>location</th>\n      <th>total_sqft</th>\n      <th>bath</th>\n      <th>price</th>\n      <th>bhk</th>\n      <th>price/sqft</th>\n    </tr>\n  </thead>\n  <tbody>\n    <tr>\n      <th>0</th>\n      <td>Electronic City Phase II</td>\n      <td>1056.0</td>\n      <td>2.0</td>\n      <td>39.07</td>\n      <td>2</td>\n      <td>3699.810606</td>\n    </tr>\n    <tr>\n      <th>1</th>\n      <td>Chikka Tirupathi</td>\n      <td>2600.0</td>\n      <td>5.0</td>\n      <td>120.00</td>\n      <td>4</td>\n      <td>4615.384615</td>\n    </tr>\n    <tr>\n      <th>2</th>\n      <td>Uttarahalli</td>\n      <td>1440.0</td>\n      <td>2.0</td>\n      <td>62.00</td>\n      <td>3</td>\n      <td>4305.555556</td>\n    </tr>\n    <tr>\n      <th>3</th>\n      <td>Lingadheeranahalli</td>\n      <td>1521.0</td>\n      <td>3.0</td>\n      <td>95.00</td>\n      <td>3</td>\n      <td>6245.890861</td>\n    </tr>\n    <tr>\n      <th>4</th>\n      <td>Kothanur</td>\n      <td>1200.0</td>\n      <td>2.0</td>\n      <td>51.00</td>\n      <td>2</td>\n      <td>4250.000000</td>\n    </tr>\n    <tr>\n      <th>...</th>\n      <td>...</td>\n      <td>...</td>\n      <td>...</td>\n      <td>...</td>\n      <td>...</td>\n      <td>...</td>\n    </tr>\n    <tr>\n      <th>13315</th>\n      <td>Whitefield</td>\n      <td>3453.0</td>\n      <td>4.0</td>\n      <td>231.00</td>\n      <td>5</td>\n      <td>6689.834926</td>\n    </tr>\n    <tr>\n      <th>13316</th>\n      <td>Richards Town</td>\n      <td>3600.0</td>\n      <td>5.0</td>\n      <td>400.00</td>\n      <td>4</td>\n      <td>11111.111111</td>\n    </tr>\n    <tr>\n      <th>13317</th>\n      <td>Raja Rajeshwari Nagar</td>\n      <td>1141.0</td>\n      <td>2.0</td>\n      <td>60.00</td>\n      <td>2</td>\n      <td>5258.545136</td>\n    </tr>\n    <tr>\n      <th>13318</th>\n      <td>Padmanabhanagar</td>\n      <td>4689.0</td>\n      <td>4.0</td>\n      <td>488.00</td>\n      <td>4</td>\n      <td>10407.336319</td>\n    </tr>\n    <tr>\n      <th>13319</th>\n      <td>Doddathoguru</td>\n      <td>550.0</td>\n      <td>1.0</td>\n      <td>17.00</td>\n      <td>1</td>\n      <td>3090.909091</td>\n    </tr>\n  </tbody>\n</table>\n<p>13246 rows × 6 columns</p>\n</div>"
     },
     "execution_count": 21,
     "metadata": {},
     "output_type": "execute_result"
    }
   ],
   "source": [
    "df4 =df3.copy()\n",
    "df4[\"price/sqft\"]=(df4[\"price\"]*100000)/df4[\"total_sqft\"]\n",
    "df4"
   ],
   "metadata": {
    "collapsed": false,
    "ExecuteTime": {
     "end_time": "2023-05-24T10:02:56.960749Z",
     "start_time": "2023-05-24T10:02:56.266981Z"
    }
   }
  },
  {
   "cell_type": "code",
   "execution_count": 22,
   "outputs": [
    {
     "data": {
      "text/plain": "location\nAbshot Layout               1\nYelahanka,MVIT college      1\nPillahalli                  1\nRajarajesheari nagar        1\nAsthagrama Layout           1\n                         ... \nThanisandra               233\nKanakpura Road            266\nElectronic City           302\nSarjapur  Road            392\nWhitefield                534\nName: count, Length: 1304, dtype: int64"
     },
     "execution_count": 22,
     "metadata": {},
     "output_type": "execute_result"
    }
   ],
   "source": [
    "locations = df4[\"location\"].value_counts().sort_values()\n",
    "locations"
   ],
   "metadata": {
    "collapsed": false,
    "ExecuteTime": {
     "end_time": "2023-05-24T10:02:56.970386Z",
     "start_time": "2023-05-24T10:02:56.305575Z"
    }
   }
  },
  {
   "cell_type": "code",
   "execution_count": 23,
   "outputs": [
    {
     "data": {
      "text/plain": "location\nAbshot Layout              1\nYelahanka,MVIT college     1\nPillahalli                 1\nRajarajesheari nagar       1\nAsthagrama Layout          1\n                          ..\nGanga Nagar               10\nBTM 1st Stage             10\n1st Block Koramangala     10\nBasapura                  10\nNagappa Reddy Layout      10\nName: count, Length: 1063, dtype: int64"
     },
     "execution_count": 23,
     "metadata": {},
     "output_type": "execute_result"
    }
   ],
   "source": [
    "location_less_than_10 = locations[locations<=10]\n",
    "location_less_than_10"
   ],
   "metadata": {
    "collapsed": false,
    "ExecuteTime": {
     "end_time": "2023-05-24T10:02:57.034637Z",
     "start_time": "2023-05-24T10:02:56.337606Z"
    }
   }
  },
  {
   "cell_type": "code",
   "execution_count": 24,
   "outputs": [
    {
     "data": {
      "text/plain": "location\nother                 2896\nWhitefield             534\nSarjapur  Road         392\nElectronic City        302\nKanakpura Road         266\n                      ... \nMarsur                  11\nBanjara Layout          11\nLB Shastri Nagar        11\nPattandur Agrahara      11\nNarayanapura            11\nName: count, Length: 242, dtype: int64"
     },
     "execution_count": 24,
     "metadata": {},
     "output_type": "execute_result"
    }
   ],
   "source": [
    "df5=df4.copy()\n",
    "df5[\"location\"]=df5[\"location\"].apply(lambda x: \"other\" if x in location_less_than_10 else x)\n",
    "df5[\"location\"].value_counts()"
   ],
   "metadata": {
    "collapsed": false,
    "ExecuteTime": {
     "end_time": "2023-05-24T10:02:57.122878Z",
     "start_time": "2023-05-24T10:02:56.367117Z"
    }
   }
  },
  {
   "cell_type": "code",
   "execution_count": 25,
   "outputs": [
    {
     "data": {
      "text/plain": "                       location  total_sqft  bath   price  bhk    price/sqft\n0      Electronic City Phase II      1056.0   2.0   39.07    2   3699.810606\n1              Chikka Tirupathi      2600.0   5.0  120.00    4   4615.384615\n2                   Uttarahalli      1440.0   2.0   62.00    3   4305.555556\n3            Lingadheeranahalli      1521.0   3.0   95.00    3   6245.890861\n4                      Kothanur      1200.0   2.0   51.00    2   4250.000000\n...                         ...         ...   ...     ...  ...           ...\n13315                Whitefield      3453.0   4.0  231.00    5   6689.834926\n13316                     other      3600.0   5.0  400.00    4  11111.111111\n13317     Raja Rajeshwari Nagar      1141.0   2.0   60.00    2   5258.545136\n13318           Padmanabhanagar      4689.0   4.0  488.00    4  10407.336319\n13319              Doddathoguru       550.0   1.0   17.00    1   3090.909091\n\n[13246 rows x 6 columns]",
      "text/html": "<div>\n<style scoped>\n    .dataframe tbody tr th:only-of-type {\n        vertical-align: middle;\n    }\n\n    .dataframe tbody tr th {\n        vertical-align: top;\n    }\n\n    .dataframe thead th {\n        text-align: right;\n    }\n</style>\n<table border=\"1\" class=\"dataframe\">\n  <thead>\n    <tr style=\"text-align: right;\">\n      <th></th>\n      <th>location</th>\n      <th>total_sqft</th>\n      <th>bath</th>\n      <th>price</th>\n      <th>bhk</th>\n      <th>price/sqft</th>\n    </tr>\n  </thead>\n  <tbody>\n    <tr>\n      <th>0</th>\n      <td>Electronic City Phase II</td>\n      <td>1056.0</td>\n      <td>2.0</td>\n      <td>39.07</td>\n      <td>2</td>\n      <td>3699.810606</td>\n    </tr>\n    <tr>\n      <th>1</th>\n      <td>Chikka Tirupathi</td>\n      <td>2600.0</td>\n      <td>5.0</td>\n      <td>120.00</td>\n      <td>4</td>\n      <td>4615.384615</td>\n    </tr>\n    <tr>\n      <th>2</th>\n      <td>Uttarahalli</td>\n      <td>1440.0</td>\n      <td>2.0</td>\n      <td>62.00</td>\n      <td>3</td>\n      <td>4305.555556</td>\n    </tr>\n    <tr>\n      <th>3</th>\n      <td>Lingadheeranahalli</td>\n      <td>1521.0</td>\n      <td>3.0</td>\n      <td>95.00</td>\n      <td>3</td>\n      <td>6245.890861</td>\n    </tr>\n    <tr>\n      <th>4</th>\n      <td>Kothanur</td>\n      <td>1200.0</td>\n      <td>2.0</td>\n      <td>51.00</td>\n      <td>2</td>\n      <td>4250.000000</td>\n    </tr>\n    <tr>\n      <th>...</th>\n      <td>...</td>\n      <td>...</td>\n      <td>...</td>\n      <td>...</td>\n      <td>...</td>\n      <td>...</td>\n    </tr>\n    <tr>\n      <th>13315</th>\n      <td>Whitefield</td>\n      <td>3453.0</td>\n      <td>4.0</td>\n      <td>231.00</td>\n      <td>5</td>\n      <td>6689.834926</td>\n    </tr>\n    <tr>\n      <th>13316</th>\n      <td>other</td>\n      <td>3600.0</td>\n      <td>5.0</td>\n      <td>400.00</td>\n      <td>4</td>\n      <td>11111.111111</td>\n    </tr>\n    <tr>\n      <th>13317</th>\n      <td>Raja Rajeshwari Nagar</td>\n      <td>1141.0</td>\n      <td>2.0</td>\n      <td>60.00</td>\n      <td>2</td>\n      <td>5258.545136</td>\n    </tr>\n    <tr>\n      <th>13318</th>\n      <td>Padmanabhanagar</td>\n      <td>4689.0</td>\n      <td>4.0</td>\n      <td>488.00</td>\n      <td>4</td>\n      <td>10407.336319</td>\n    </tr>\n    <tr>\n      <th>13319</th>\n      <td>Doddathoguru</td>\n      <td>550.0</td>\n      <td>1.0</td>\n      <td>17.00</td>\n      <td>1</td>\n      <td>3090.909091</td>\n    </tr>\n  </tbody>\n</table>\n<p>13246 rows × 6 columns</p>\n</div>"
     },
     "execution_count": 25,
     "metadata": {},
     "output_type": "execute_result"
    }
   ],
   "source": [
    "df5"
   ],
   "metadata": {
    "collapsed": false,
    "ExecuteTime": {
     "end_time": "2023-05-24T10:02:57.124342Z",
     "start_time": "2023-05-24T10:02:56.455540Z"
    }
   }
  },
  {
   "cell_type": "code",
   "execution_count": 26,
   "outputs": [
    {
     "data": {
      "text/plain": "               location  total_sqft  bath  price  bhk    price/sqft\n9                 other      1020.0   6.0  370.0    6  36274.509804\n45           HSR Layout       600.0   9.0  200.0    8  33333.333333\n58        Murugeshpalya      1407.0   4.0  150.0    6  10660.980810\n68                other      1350.0   7.0   85.0    8   6296.296296\n70                other       500.0   3.0  100.0    3  20000.000000\n...                 ...         ...   ...    ...  ...           ...\n13277             other      1400.0   7.0  218.0    7  15571.428571\n13279             other      1200.0   5.0  130.0    6  10833.333333\n13281   Margondanahalli      1375.0   5.0  125.0    5   9090.909091\n13303    Vidyaranyapura       774.0   5.0   70.0    5   9043.927649\n13311  Ramamurthy Nagar      1500.0   9.0  250.0    7  16666.666667\n\n[744 rows x 6 columns]",
      "text/html": "<div>\n<style scoped>\n    .dataframe tbody tr th:only-of-type {\n        vertical-align: middle;\n    }\n\n    .dataframe tbody tr th {\n        vertical-align: top;\n    }\n\n    .dataframe thead th {\n        text-align: right;\n    }\n</style>\n<table border=\"1\" class=\"dataframe\">\n  <thead>\n    <tr style=\"text-align: right;\">\n      <th></th>\n      <th>location</th>\n      <th>total_sqft</th>\n      <th>bath</th>\n      <th>price</th>\n      <th>bhk</th>\n      <th>price/sqft</th>\n    </tr>\n  </thead>\n  <tbody>\n    <tr>\n      <th>9</th>\n      <td>other</td>\n      <td>1020.0</td>\n      <td>6.0</td>\n      <td>370.0</td>\n      <td>6</td>\n      <td>36274.509804</td>\n    </tr>\n    <tr>\n      <th>45</th>\n      <td>HSR Layout</td>\n      <td>600.0</td>\n      <td>9.0</td>\n      <td>200.0</td>\n      <td>8</td>\n      <td>33333.333333</td>\n    </tr>\n    <tr>\n      <th>58</th>\n      <td>Murugeshpalya</td>\n      <td>1407.0</td>\n      <td>4.0</td>\n      <td>150.0</td>\n      <td>6</td>\n      <td>10660.980810</td>\n    </tr>\n    <tr>\n      <th>68</th>\n      <td>other</td>\n      <td>1350.0</td>\n      <td>7.0</td>\n      <td>85.0</td>\n      <td>8</td>\n      <td>6296.296296</td>\n    </tr>\n    <tr>\n      <th>70</th>\n      <td>other</td>\n      <td>500.0</td>\n      <td>3.0</td>\n      <td>100.0</td>\n      <td>3</td>\n      <td>20000.000000</td>\n    </tr>\n    <tr>\n      <th>...</th>\n      <td>...</td>\n      <td>...</td>\n      <td>...</td>\n      <td>...</td>\n      <td>...</td>\n      <td>...</td>\n    </tr>\n    <tr>\n      <th>13277</th>\n      <td>other</td>\n      <td>1400.0</td>\n      <td>7.0</td>\n      <td>218.0</td>\n      <td>7</td>\n      <td>15571.428571</td>\n    </tr>\n    <tr>\n      <th>13279</th>\n      <td>other</td>\n      <td>1200.0</td>\n      <td>5.0</td>\n      <td>130.0</td>\n      <td>6</td>\n      <td>10833.333333</td>\n    </tr>\n    <tr>\n      <th>13281</th>\n      <td>Margondanahalli</td>\n      <td>1375.0</td>\n      <td>5.0</td>\n      <td>125.0</td>\n      <td>5</td>\n      <td>9090.909091</td>\n    </tr>\n    <tr>\n      <th>13303</th>\n      <td>Vidyaranyapura</td>\n      <td>774.0</td>\n      <td>5.0</td>\n      <td>70.0</td>\n      <td>5</td>\n      <td>9043.927649</td>\n    </tr>\n    <tr>\n      <th>13311</th>\n      <td>Ramamurthy Nagar</td>\n      <td>1500.0</td>\n      <td>9.0</td>\n      <td>250.0</td>\n      <td>7</td>\n      <td>16666.666667</td>\n    </tr>\n  </tbody>\n</table>\n<p>744 rows × 6 columns</p>\n</div>"
     },
     "execution_count": 26,
     "metadata": {},
     "output_type": "execute_result"
    }
   ],
   "source": [
    "df5[df5['total_sqft']/df5['bhk']<300]"
   ],
   "metadata": {
    "collapsed": false,
    "ExecuteTime": {
     "end_time": "2023-05-24T10:02:57.125898Z",
     "start_time": "2023-05-24T10:02:56.702096Z"
    }
   }
  },
  {
   "cell_type": "code",
   "execution_count": 27,
   "outputs": [
    {
     "data": {
      "text/plain": "                       location  total_sqft  bath   price  bhk    price/sqft\n0      Electronic City Phase II      1056.0   2.0   39.07    2   3699.810606\n1              Chikka Tirupathi      2600.0   5.0  120.00    4   4615.384615\n2                   Uttarahalli      1440.0   2.0   62.00    3   4305.555556\n3            Lingadheeranahalli      1521.0   3.0   95.00    3   6245.890861\n4                      Kothanur      1200.0   2.0   51.00    2   4250.000000\n...                         ...         ...   ...     ...  ...           ...\n13315                Whitefield      3453.0   4.0  231.00    5   6689.834926\n13316                     other      3600.0   5.0  400.00    4  11111.111111\n13317     Raja Rajeshwari Nagar      1141.0   2.0   60.00    2   5258.545136\n13318           Padmanabhanagar      4689.0   4.0  488.00    4  10407.336319\n13319              Doddathoguru       550.0   1.0   17.00    1   3090.909091\n\n[12502 rows x 6 columns]",
      "text/html": "<div>\n<style scoped>\n    .dataframe tbody tr th:only-of-type {\n        vertical-align: middle;\n    }\n\n    .dataframe tbody tr th {\n        vertical-align: top;\n    }\n\n    .dataframe thead th {\n        text-align: right;\n    }\n</style>\n<table border=\"1\" class=\"dataframe\">\n  <thead>\n    <tr style=\"text-align: right;\">\n      <th></th>\n      <th>location</th>\n      <th>total_sqft</th>\n      <th>bath</th>\n      <th>price</th>\n      <th>bhk</th>\n      <th>price/sqft</th>\n    </tr>\n  </thead>\n  <tbody>\n    <tr>\n      <th>0</th>\n      <td>Electronic City Phase II</td>\n      <td>1056.0</td>\n      <td>2.0</td>\n      <td>39.07</td>\n      <td>2</td>\n      <td>3699.810606</td>\n    </tr>\n    <tr>\n      <th>1</th>\n      <td>Chikka Tirupathi</td>\n      <td>2600.0</td>\n      <td>5.0</td>\n      <td>120.00</td>\n      <td>4</td>\n      <td>4615.384615</td>\n    </tr>\n    <tr>\n      <th>2</th>\n      <td>Uttarahalli</td>\n      <td>1440.0</td>\n      <td>2.0</td>\n      <td>62.00</td>\n      <td>3</td>\n      <td>4305.555556</td>\n    </tr>\n    <tr>\n      <th>3</th>\n      <td>Lingadheeranahalli</td>\n      <td>1521.0</td>\n      <td>3.0</td>\n      <td>95.00</td>\n      <td>3</td>\n      <td>6245.890861</td>\n    </tr>\n    <tr>\n      <th>4</th>\n      <td>Kothanur</td>\n      <td>1200.0</td>\n      <td>2.0</td>\n      <td>51.00</td>\n      <td>2</td>\n      <td>4250.000000</td>\n    </tr>\n    <tr>\n      <th>...</th>\n      <td>...</td>\n      <td>...</td>\n      <td>...</td>\n      <td>...</td>\n      <td>...</td>\n      <td>...</td>\n    </tr>\n    <tr>\n      <th>13315</th>\n      <td>Whitefield</td>\n      <td>3453.0</td>\n      <td>4.0</td>\n      <td>231.00</td>\n      <td>5</td>\n      <td>6689.834926</td>\n    </tr>\n    <tr>\n      <th>13316</th>\n      <td>other</td>\n      <td>3600.0</td>\n      <td>5.0</td>\n      <td>400.00</td>\n      <td>4</td>\n      <td>11111.111111</td>\n    </tr>\n    <tr>\n      <th>13317</th>\n      <td>Raja Rajeshwari Nagar</td>\n      <td>1141.0</td>\n      <td>2.0</td>\n      <td>60.00</td>\n      <td>2</td>\n      <td>5258.545136</td>\n    </tr>\n    <tr>\n      <th>13318</th>\n      <td>Padmanabhanagar</td>\n      <td>4689.0</td>\n      <td>4.0</td>\n      <td>488.00</td>\n      <td>4</td>\n      <td>10407.336319</td>\n    </tr>\n    <tr>\n      <th>13319</th>\n      <td>Doddathoguru</td>\n      <td>550.0</td>\n      <td>1.0</td>\n      <td>17.00</td>\n      <td>1</td>\n      <td>3090.909091</td>\n    </tr>\n  </tbody>\n</table>\n<p>12502 rows × 6 columns</p>\n</div>"
     },
     "execution_count": 27,
     "metadata": {},
     "output_type": "execute_result"
    }
   ],
   "source": [
    "df6 =df5[~(df5['total_sqft']/df5['bhk']<300)]\n",
    "df6"
   ],
   "metadata": {
    "collapsed": false,
    "ExecuteTime": {
     "end_time": "2023-05-24T10:02:57.127170Z",
     "start_time": "2023-05-24T10:02:56.704171Z"
    }
   }
  },
  {
   "cell_type": "code",
   "execution_count": 28,
   "outputs": [
    {
     "data": {
      "text/plain": "         total_sqft          bath         price           bhk     price/sqft\ncount  12456.000000  12502.000000  12502.000000  12502.000000   12456.000000\nmean    1590.189927      2.564790    111.311915      2.650696    6308.502826\nstd     1260.404795      1.084946    152.089966      0.981698    4168.127339\nmin      300.000000      1.000000      9.000000      1.000000     267.829813\n25%     1115.000000      2.000000     49.000000      2.000000    4210.526316\n50%     1300.000000      2.000000     70.000000      3.000000    5294.117647\n75%     1700.000000      3.000000    115.000000      3.000000    6916.666667\nmax    52272.000000     16.000000   3600.000000     16.000000  176470.588235",
      "text/html": "<div>\n<style scoped>\n    .dataframe tbody tr th:only-of-type {\n        vertical-align: middle;\n    }\n\n    .dataframe tbody tr th {\n        vertical-align: top;\n    }\n\n    .dataframe thead th {\n        text-align: right;\n    }\n</style>\n<table border=\"1\" class=\"dataframe\">\n  <thead>\n    <tr style=\"text-align: right;\">\n      <th></th>\n      <th>total_sqft</th>\n      <th>bath</th>\n      <th>price</th>\n      <th>bhk</th>\n      <th>price/sqft</th>\n    </tr>\n  </thead>\n  <tbody>\n    <tr>\n      <th>count</th>\n      <td>12456.000000</td>\n      <td>12502.000000</td>\n      <td>12502.000000</td>\n      <td>12502.000000</td>\n      <td>12456.000000</td>\n    </tr>\n    <tr>\n      <th>mean</th>\n      <td>1590.189927</td>\n      <td>2.564790</td>\n      <td>111.311915</td>\n      <td>2.650696</td>\n      <td>6308.502826</td>\n    </tr>\n    <tr>\n      <th>std</th>\n      <td>1260.404795</td>\n      <td>1.084946</td>\n      <td>152.089966</td>\n      <td>0.981698</td>\n      <td>4168.127339</td>\n    </tr>\n    <tr>\n      <th>min</th>\n      <td>300.000000</td>\n      <td>1.000000</td>\n      <td>9.000000</td>\n      <td>1.000000</td>\n      <td>267.829813</td>\n    </tr>\n    <tr>\n      <th>25%</th>\n      <td>1115.000000</td>\n      <td>2.000000</td>\n      <td>49.000000</td>\n      <td>2.000000</td>\n      <td>4210.526316</td>\n    </tr>\n    <tr>\n      <th>50%</th>\n      <td>1300.000000</td>\n      <td>2.000000</td>\n      <td>70.000000</td>\n      <td>3.000000</td>\n      <td>5294.117647</td>\n    </tr>\n    <tr>\n      <th>75%</th>\n      <td>1700.000000</td>\n      <td>3.000000</td>\n      <td>115.000000</td>\n      <td>3.000000</td>\n      <td>6916.666667</td>\n    </tr>\n    <tr>\n      <th>max</th>\n      <td>52272.000000</td>\n      <td>16.000000</td>\n      <td>3600.000000</td>\n      <td>16.000000</td>\n      <td>176470.588235</td>\n    </tr>\n  </tbody>\n</table>\n</div>"
     },
     "execution_count": 28,
     "metadata": {},
     "output_type": "execute_result"
    }
   ],
   "source": [
    "df6.describe()"
   ],
   "metadata": {
    "collapsed": false,
    "ExecuteTime": {
     "end_time": "2023-05-24T10:02:57.135859Z",
     "start_time": "2023-05-24T10:02:56.704900Z"
    }
   }
  },
  {
   "cell_type": "code",
   "execution_count": 29,
   "outputs": [
    {
     "data": {
      "text/plain": "location\nother                   2314\nWhitefield               478\nSarjapur  Road           296\nElectronic City          277\nKanakpura Road           190\n                        ... \nThyagaraja Nagar           4\nHAL 2nd Stage              4\nVishveshwarya Layout       4\nBanjara Layout             4\nMarsur                     3\nName: count, Length: 242, dtype: int64"
     },
     "execution_count": 29,
     "metadata": {},
     "output_type": "execute_result"
    }
   ],
   "source": [
    "def remove_outliners(df):\n",
    "    df_out=pd.DataFrame()\n",
    "    for key,subdf in df.groupby(\"location\"):\n",
    "        m = np.mean(subdf[\"price/sqft\"])\n",
    "        sd = np.std(subdf[\"price/sqft\"])\n",
    "        reduced_df=subdf[(subdf['price/sqft']>(m-sd)) & (subdf['price/sqft']<=(m+sd))]\n",
    "        df_out=pd.concat([df_out,reduced_df],ignore_index=True)\n",
    "    return df_out\n",
    "\n",
    "\n",
    "df7=remove_outliners(df6)\n",
    "df7[\"location\"].value_counts()"
   ],
   "metadata": {
    "collapsed": false,
    "ExecuteTime": {
     "end_time": "2023-05-24T10:02:58.641156Z",
     "start_time": "2023-05-24T10:02:56.705912Z"
    }
   }
  },
  {
   "cell_type": "code",
   "execution_count": 36,
   "outputs": [
    {
     "data": {
      "text/plain": "               location  total_sqft  bath  price  bhk   price/sqft\n0   Devarachikkanahalli      1250.0   2.0   44.0    3  3520.000000\n1   Devarachikkanahalli      1250.0   2.0   40.0    2  3200.000000\n2   Devarachikkanahalli      1200.0   2.0   83.0    2  6916.666667",
      "text/html": "<div>\n<style scoped>\n    .dataframe tbody tr th:only-of-type {\n        vertical-align: middle;\n    }\n\n    .dataframe tbody tr th {\n        vertical-align: top;\n    }\n\n    .dataframe thead th {\n        text-align: right;\n    }\n</style>\n<table border=\"1\" class=\"dataframe\">\n  <thead>\n    <tr style=\"text-align: right;\">\n      <th></th>\n      <th>location</th>\n      <th>total_sqft</th>\n      <th>bath</th>\n      <th>price</th>\n      <th>bhk</th>\n      <th>price/sqft</th>\n    </tr>\n  </thead>\n  <tbody>\n    <tr>\n      <th>0</th>\n      <td>Devarachikkanahalli</td>\n      <td>1250.0</td>\n      <td>2.0</td>\n      <td>44.0</td>\n      <td>3</td>\n      <td>3520.000000</td>\n    </tr>\n    <tr>\n      <th>1</th>\n      <td>Devarachikkanahalli</td>\n      <td>1250.0</td>\n      <td>2.0</td>\n      <td>40.0</td>\n      <td>2</td>\n      <td>3200.000000</td>\n    </tr>\n    <tr>\n      <th>2</th>\n      <td>Devarachikkanahalli</td>\n      <td>1200.0</td>\n      <td>2.0</td>\n      <td>83.0</td>\n      <td>2</td>\n      <td>6916.666667</td>\n    </tr>\n  </tbody>\n</table>\n</div>"
     },
     "execution_count": 36,
     "metadata": {},
     "output_type": "execute_result"
    },
    {
     "data": {
      "text/plain": "<Figure size 1500x1000 with 1 Axes>",
      "image/png": "[encoded data removed]"
     },
     "metadata": {},
     "output_type": "display_data"
    }
   ],
   "source": [
    "def plot_scatter_chart(df,loc):\n",
    "    # print(df)\n",
    "    bhk1=df[(df[\"bhk\"]==1) & (df['location']==loc)]\n",
    "    bhk2=df[(df[\"bhk\"]==2) & (df['location']==loc)]\n",
    "    bhk3=df[(df[\"bhk\"]==3) & (df['location']==loc)]\n",
    "    matplotlib.rcParams['figure.figsize'] = (15,10)\n",
    "    plt.scatter(bhk1['total_sqft'],bhk1['price'],color='blue',label=\"1bhk\")\n",
    "    plt.scatter(bhk2['total_sqft'],bhk2['price'],color='red',label=\"2bhk\",s=50,marker=\"+\")\n",
    "    plt.scatter(bhk3['total_sqft'],bhk3['price'],color='green',label=\"3bhk\",s=50,marker=\"*\")\n",
    "    plt.xlabel(\"total_sqft\")\n",
    "    plt.ylabel(\"Price\")\n",
    "    plt.title(loc)\n",
    "    plt.legend()\n",
    "\n",
    "plot_scatter_chart(df=df7,loc=\"Yelahanka\")\n",
    "df7.head(3)\n"
   ],
   "metadata": {
    "collapsed": false,
    "ExecuteTime": {
     "end_time": "2023-05-24T10:16:31.270955Z",
     "start_time": "2023-05-24T10:16:30.295064Z"
    }
   }
  },
  {
   "cell_type": "code",
   "execution_count": 38,
   "outputs": [
    {
     "data": {
      "text/plain": "                   location  total_sqft  bath  price  bhk    price/sqft\n1       Devarachikkanahalli      1250.0   2.0   40.0    2   3200.000000\n2       Devarachikkanahalli      1200.0   2.0   83.0    2   6916.666667\n3       Devarachikkanahalli      1170.0   2.0   40.0    2   3418.803419\n4       Devarachikkanahalli      1425.0   2.0   65.0    3   4561.403509\n5       Devarachikkanahalli       947.0   2.0   43.0    2   4540.654699\n...                     ...         ...   ...    ...  ...           ...\n10235                 other      1200.0   2.0   70.0    2   5833.333333\n10236                 other      1800.0   1.0  200.0    1  11111.111111\n10239                 other      1353.0   2.0  110.0    2   8130.081301\n10240                 other       812.0   1.0   26.0    1   3201.970443\n10243                 other      3600.0   5.0  400.0    4  11111.111111\n\n[7342 rows x 6 columns]",
      "text/html": "<div>\n<style scoped>\n    .dataframe tbody tr th:only-of-type {\n        vertical-align: middle;\n    }\n\n    .dataframe tbody tr th {\n        vertical-align: top;\n    }\n\n    .dataframe thead th {\n        text-align: right;\n    }\n</style>\n<table border=\"1\" class=\"dataframe\">\n  <thead>\n    <tr style=\"text-align: right;\">\n      <th></th>\n      <th>location</th>\n      <th>total_sqft</th>\n      <th>bath</th>\n      <th>price</th>\n      <th>bhk</th>\n      <th>price/sqft</th>\n    </tr>\n  </thead>\n  <tbody>\n    <tr>\n      <th>1</th>\n      <td>Devarachikkanahalli</td>\n      <td>1250.0</td>\n      <td>2.0</td>\n      <td>40.0</td>\n      <td>2</td>\n      <td>3200.000000</td>\n    </tr>\n    <tr>\n      <th>2</th>\n      <td>Devarachikkanahalli</td>\n      <td>1200.0</td>\n      <td>2.0</td>\n      <td>83.0</td>\n      <td>2</td>\n      <td>6916.666667</td>\n    </tr>\n    <tr>\n      <th>3</th>\n      <td>Devarachikkanahalli</td>\n      <td>1170.0</td>\n      <td>2.0</td>\n      <td>40.0</td>\n      <td>2</td>\n      <td>3418.803419</td>\n    </tr>\n    <tr>\n      <th>4</th>\n      <td>Devarachikkanahalli</td>\n      <td>1425.0</td>\n      <td>2.0</td>\n      <td>65.0</td>\n      <td>3</td>\n      <td>4561.403509</td>\n    </tr>\n    <tr>\n      <th>5</th>\n      <td>Devarachikkanahalli</td>\n      <td>947.0</td>\n      <td>2.0</td>\n      <td>43.0</td>\n      <td>2</td>\n      <td>4540.654699</td>\n    </tr>\n    <tr>\n      <th>...</th>\n      <td>...</td>\n      <td>...</td>\n      <td>...</td>\n      <td>...</td>\n      <td>...</td>\n      <td>...</td>\n    </tr>\n    <tr>\n      <th>10235</th>\n      <td>other</td>\n      <td>1200.0</td>\n      <td>2.0</td>\n      <td>70.0</td>\n      <td>2</td>\n      <td>5833.333333</td>\n    </tr>\n    <tr>\n      <th>10236</th>\n      <td>other</td>\n      <td>1800.0</td>\n      <td>1.0</td>\n      <td>200.0</td>\n      <td>1</td>\n      <td>11111.111111</td>\n    </tr>\n    <tr>\n      <th>10239</th>\n      <td>other</td>\n      <td>1353.0</td>\n      <td>2.0</td>\n      <td>110.0</td>\n      <td>2</td>\n      <td>8130.081301</td>\n    </tr>\n    <tr>\n      <th>10240</th>\n      <td>other</td>\n      <td>812.0</td>\n      <td>1.0</td>\n      <td>26.0</td>\n      <td>1</td>\n      <td>3201.970443</td>\n    </tr>\n    <tr>\n      <th>10243</th>\n      <td>other</td>\n      <td>3600.0</td>\n      <td>5.0</td>\n      <td>400.0</td>\n      <td>4</td>\n      <td>11111.111111</td>\n    </tr>\n  </tbody>\n</table>\n<p>7342 rows × 6 columns</p>\n</div>"
     },
     "execution_count": 38,
     "metadata": {},
     "output_type": "execute_result"
    }
   ],
   "source": [
    "def remove_bhk_outliers(df):\n",
    "    exclude_indices = np.array([])\n",
    "    for loc,loc_df in df.groupby('location'):\n",
    "        bhk_stats={}\n",
    "        for bhk,bhk_df in loc_df.groupby('bhk'):\n",
    "            bhk_stats[bhk]={\n",
    "                'mean':np.mean(bhk_df['price/sqft']),\n",
    "                'std':np.std(bhk_df['price/sqft']),\n",
    "                'count':bhk_df.shape[0]\n",
    "            }\n",
    "        for bhk,bhk_df in loc_df.groupby('bhk'):\n",
    "            stats = bhk_stats.get(bhk-1)\n",
    "            if stats and stats['count']>5:\n",
    "                exclude_indices = np.append(exclude_indices,bhk_df[bhk_df['price/sqft']<(stats['mean'])].index.values)\n",
    "    return df.drop(exclude_indices,axis='index')\n",
    "df8 = remove_bhk_outliers(df7)\n",
    "df8"
   ],
   "metadata": {
    "collapsed": false,
    "ExecuteTime": {
     "end_time": "2023-05-24T10:21:21.593788Z",
     "start_time": "2023-05-24T10:21:19.905054Z"
    }
   }
  },
  {
   "cell_type": "code",
   "execution_count": 39,
   "outputs": [
    {
     "data": {
      "text/plain": "<Figure size 1500x1000 with 1 Axes>",
      "image/png": "[encoded data removed]"
     },
     "metadata": {},
     "output_type": "display_data"
    }
   ],
   "source": [
    "plot_scatter_chart(df=df8,loc=\"Yelahanka\")\n"
   ],
   "metadata": {
    "collapsed": false,
    "ExecuteTime": {
     "end_time": "2023-05-24T10:21:49.754268Z",
     "start_time": "2023-05-24T10:21:48.569819Z"
    }
   }
  },
  {
   "cell_type": "code",
   "execution_count": 43,
   "outputs": [
    {
     "data": {
      "text/plain": "Text(0.5, 0, 'price/sqft')"
     },
     "execution_count": 43,
     "metadata": {},
     "output_type": "execute_result"
    },
    {
     "data": {
      "text/plain": "<Figure size 1500x1000 with 1 Axes>",
      "image/png": "[encoded data removed]"
     },
     "metadata": {},
     "output_type": "display_data"
    }
   ],
   "source": [
    "plt.hist(df8['price/sqft'],rwidth=0.1)\n",
    "plt.xlabel('price/sqft')\n",
    "# plt.ylabel('count')"
   ],
   "metadata": {
    "collapsed": false,
    "ExecuteTime": {
     "end_time": "2023-05-24T10:25:03.248587Z",
     "start_time": "2023-05-24T10:25:02.564305Z"
    }
   }
  },
  {
   "cell_type": "code",
   "execution_count": 44,
   "outputs": [
    {
     "data": {
      "text/plain": "                   location  total_sqft  bath  price  bhk    price/sqft\n1       Devarachikkanahalli      1250.0   2.0   40.0    2   3200.000000\n2       Devarachikkanahalli      1200.0   2.0   83.0    2   6916.666667\n3       Devarachikkanahalli      1170.0   2.0   40.0    2   3418.803419\n4       Devarachikkanahalli      1425.0   2.0   65.0    3   4561.403509\n5       Devarachikkanahalli       947.0   2.0   43.0    2   4540.654699\n...                     ...         ...   ...    ...  ...           ...\n10235                 other      1200.0   2.0   70.0    2   5833.333333\n10236                 other      1800.0   1.0  200.0    1  11111.111111\n10239                 other      1353.0   2.0  110.0    2   8130.081301\n10240                 other       812.0   1.0   26.0    1   3201.970443\n10243                 other      3600.0   5.0  400.0    4  11111.111111\n\n[7264 rows x 6 columns]",
      "text/html": "<div>\n<style scoped>\n    .dataframe tbody tr th:only-of-type {\n        vertical-align: middle;\n    }\n\n    .dataframe tbody tr th {\n        vertical-align: top;\n    }\n\n    .dataframe thead th {\n        text-align: right;\n    }\n</style>\n<table border=\"1\" class=\"dataframe\">\n  <thead>\n    <tr style=\"text-align: right;\">\n      <th></th>\n      <th>location</th>\n      <th>total_sqft</th>\n      <th>bath</th>\n      <th>price</th>\n      <th>bhk</th>\n      <th>price/sqft</th>\n    </tr>\n  </thead>\n  <tbody>\n    <tr>\n      <th>1</th>\n      <td>Devarachikkanahalli</td>\n      <td>1250.0</td>\n      <td>2.0</td>\n      <td>40.0</td>\n      <td>2</td>\n      <td>3200.000000</td>\n    </tr>\n    <tr>\n      <th>2</th>\n      <td>Devarachikkanahalli</td>\n      <td>1200.0</td>\n      <td>2.0</td>\n      <td>83.0</td>\n      <td>2</td>\n      <td>6916.666667</td>\n    </tr>\n    <tr>\n      <th>3</th>\n      <td>Devarachikkanahalli</td>\n      <td>1170.0</td>\n      <td>2.0</td>\n      <td>40.0</td>\n      <td>2</td>\n      <td>3418.803419</td>\n    </tr>\n    <tr>\n      <th>4</th>\n      <td>Devarachikkanahalli</td>\n      <td>1425.0</td>\n      <td>2.0</td>\n      <td>65.0</td>\n      <td>3</td>\n      <td>4561.403509</td>\n    </tr>\n    <tr>\n      <th>5</th>\n      <td>Devarachikkanahalli</td>\n      <td>947.0</td>\n      <td>2.0</td>\n      <td>43.0</td>\n      <td>2</td>\n      <td>4540.654699</td>\n    </tr>\n    <tr>\n      <th>...</th>\n      <td>...</td>\n      <td>...</td>\n      <td>...</td>\n      <td>...</td>\n      <td>...</td>\n      <td>...</td>\n    </tr>\n    <tr>\n      <th>10235</th>\n      <td>other</td>\n      <td>1200.0</td>\n      <td>2.0</td>\n      <td>70.0</td>\n      <td>2</td>\n      <td>5833.333333</td>\n    </tr>\n    <tr>\n      <th>10236</th>\n      <td>other</td>\n      <td>1800.0</td>\n      <td>1.0</td>\n      <td>200.0</td>\n      <td>1</td>\n      <td>11111.111111</td>\n    </tr>\n    <tr>\n      <th>10239</th>\n      <td>other</td>\n      <td>1353.0</td>\n      <td>2.0</td>\n      <td>110.0</td>\n      <td>2</td>\n      <td>8130.081301</td>\n    </tr>\n    <tr>\n      <th>10240</th>\n      <td>other</td>\n      <td>812.0</td>\n      <td>1.0</td>\n      <td>26.0</td>\n      <td>1</td>\n      <td>3201.970443</td>\n    </tr>\n    <tr>\n      <th>10243</th>\n      <td>other</td>\n      <td>3600.0</td>\n      <td>5.0</td>\n      <td>400.0</td>\n      <td>4</td>\n      <td>11111.111111</td>\n    </tr>\n  </tbody>\n</table>\n<p>7264 rows × 6 columns</p>\n</div>"
     },
     "execution_count": 44,
     "metadata": {},
     "output_type": "execute_result"
    }
   ],
   "source": [
    "df9 = df8[df8['bath']<df8['bhk']+2]\n",
    "df9"
   ],
   "metadata": {
    "collapsed": false,
    "ExecuteTime": {
     "end_time": "2023-05-24T11:03:01.923131Z",
     "start_time": "2023-05-24T11:03:01.861556Z"
    }
   }
  },
  {
   "cell_type": "code",
   "execution_count": 46,
   "outputs": [],
   "source": [
    "df10 =df9.drop(['price/sqft'],axis='columns')"
   ],
   "metadata": {
    "collapsed": false,
    "ExecuteTime": {
     "end_time": "2023-05-24T11:03:59.630883Z",
     "start_time": "2023-05-24T11:03:59.627496Z"
    }
   }
  },
  {
   "cell_type": "code",
   "execution_count": 52,
   "outputs": [],
   "source": [
    "dummies=pd.get_dummies(df10['location'])"
   ],
   "metadata": {
    "collapsed": false,
    "ExecuteTime": {
     "end_time": "2023-05-24T11:11:11.922805Z",
     "start_time": "2023-05-24T11:11:11.845633Z"
    }
   }
  },
  {
   "cell_type": "code",
   "execution_count": 54,
   "outputs": [
    {
     "data": {
      "text/plain": "                   location  total_sqft  bath  price  bhk   \n1       Devarachikkanahalli      1250.0   2.0   40.0    2  \\\n2       Devarachikkanahalli      1200.0   2.0   83.0    2   \n3       Devarachikkanahalli      1170.0   2.0   40.0    2   \n4       Devarachikkanahalli      1425.0   2.0   65.0    3   \n5       Devarachikkanahalli       947.0   2.0   43.0    2   \n...                     ...         ...   ...    ...  ...   \n10235                 other      1200.0   2.0   70.0    2   \n10236                 other      1800.0   1.0  200.0    1   \n10239                 other      1353.0   2.0  110.0    2   \n10240                 other       812.0   1.0   26.0    1   \n10243                 other      3600.0   5.0  400.0    4   \n\n        Devarachikkanahalli  1st Block Jayanagar  1st Phase JP Nagar   \n1                      True                False               False  \\\n2                      True                False               False   \n3                      True                False               False   \n4                      True                False               False   \n5                      True                False               False   \n...                     ...                  ...                 ...   \n10235                 False                False               False   \n10236                 False                False               False   \n10239                 False                False               False   \n10240                 False                False               False   \n10243                 False                False               False   \n\n       2nd Phase Judicial Layout  2nd Stage Nagarbhavi  ...  Vijayanagar   \n1                          False                 False  ...        False  \\\n2                          False                 False  ...        False   \n3                          False                 False  ...        False   \n4                          False                 False  ...        False   \n5                          False                 False  ...        False   \n...                          ...                   ...  ...          ...   \n10235                      False                 False  ...        False   \n10236                      False                 False  ...        False   \n10239                      False                 False  ...        False   \n10240                      False                 False  ...        False   \n10243                      False                 False  ...        False   \n\n       Vishveshwarya Layout  Vishwapriya Layout  Vittasandra  Whitefield   \n1                     False               False        False       False  \\\n2                     False               False        False       False   \n3                     False               False        False       False   \n4                     False               False        False       False   \n5                     False               False        False       False   \n...                     ...                 ...          ...         ...   \n10235                 False               False        False       False   \n10236                 False               False        False       False   \n10239                 False               False        False       False   \n10240                 False               False        False       False   \n10243                 False               False        False       False   \n\n       Yelachenahalli  Yelahanka  Yelahanka New Town  Yelenahalli   \n1               False      False               False        False  \\\n2               False      False               False        False   \n3               False      False               False        False   \n4               False      False               False        False   \n5               False      False               False        False   \n...               ...        ...                 ...          ...   \n10235           False      False               False        False   \n10236           False      False               False        False   \n10239           False      False               False        False   \n10240           False      False               False        False   \n10243           False      False               False        False   \n\n       Yeshwanthpur  \n1             False  \n2             False  \n3             False  \n4             False  \n5             False  \n...             ...  \n10235         False  \n10236         False  \n10239         False  \n10240         False  \n10243         False  \n\n[7264 rows x 246 columns]",
      "text/html": "<div>\n<style scoped>\n    .dataframe tbody tr th:only-of-type {\n        vertical-align: middle;\n    }\n\n    .dataframe tbody tr th {\n        vertical-align: top;\n    }\n\n    .dataframe thead th {\n        text-align: right;\n    }\n</style>\n<table border=\"1\" class=\"dataframe\">\n  <thead>\n    <tr style=\"text-align: right;\">\n      <th></th>\n      <th>location</th>\n      <th>total_sqft</th>\n      <th>bath</th>\n      <th>price</th>\n      <th>bhk</th>\n      <th>Devarachikkanahalli</th>\n      <th>1st Block Jayanagar</th>\n      <th>1st Phase JP Nagar</th>\n      <th>2nd Phase Judicial Layout</th>\n      <th>2nd Stage Nagarbhavi</th>\n      <th>...</th>\n      <th>Vijayanagar</th>\n      <th>Vishveshwarya Layout</th>\n      <th>Vishwapriya Layout</th>\n      <th>Vittasandra</th>\n      <th>Whitefield</th>\n      <th>Yelachenahalli</th>\n      <th>Yelahanka</th>\n      <th>Yelahanka New Town</th>\n      <th>Yelenahalli</th>\n      <th>Yeshwanthpur</th>\n    </tr>\n  </thead>\n  <tbody>\n    <tr>\n      <th>1</th>\n      <td>Devarachikkanahalli</td>\n      <td>1250.0</td>\n      <td>2.0</td>\n      <td>40.0</td>\n      <td>2</td>\n      <td>True</td>\n      <td>False</td>\n      <td>False</td>\n      <td>False</td>\n      <td>False</td>\n      <td>...</td>\n      <td>False</td>\n      <td>False</td>\n      <td>False</td>\n      <td>False</td>\n      <td>False</td>\n      <td>False</td>\n      <td>False</td>\n      <td>False</td>\n      <td>False</td>\n      <td>False</td>\n    </tr>\n    <tr>\n      <th>2</th>\n      <td>Devarachikkanahalli</td>\n      <td>1200.0</td>\n      <td>2.0</td>\n      <td>83.0</td>\n      <td>2</td>\n      <td>True</td>\n      <td>False</td>\n      <td>False</td>\n      <td>False</td>\n      <td>False</td>\n      <td>...</td>\n      <td>False</td>\n      <td>False</td>\n      <td>False</td>\n      <td>False</td>\n      <td>False</td>\n      <td>False</td>\n      <td>False</td>\n      <td>False</td>\n      <td>False</td>\n      <td>False</td>\n    </tr>\n    <tr>\n      <th>3</th>\n      <td>Devarachikkanahalli</td>\n      <td>1170.0</td>\n      <td>2.0</td>\n      <td>40.0</td>\n      <td>2</td>\n      <td>True</td>\n      <td>False</td>\n      <td>False</td>\n      <td>False</td>\n      <td>False</td>\n      <td>...</td>\n      <td>False</td>\n      <td>False</td>\n      <td>False</td>\n      <td>False</td>\n      <td>False</td>\n      <td>False</td>\n      <td>False</td>\n      <td>False</td>\n      <td>False</td>\n      <td>False</td>\n    </tr>\n    <tr>\n      <th>4</th>\n      <td>Devarachikkanahalli</td>\n      <td>1425.0</td>\n      <td>2.0</td>\n      <td>65.0</td>\n      <td>3</td>\n      <td>True</td>\n      <td>False</td>\n      <td>False</td>\n      <td>False</td>\n      <td>False</td>\n      <td>...</td>\n      <td>False</td>\n      <td>False</td>\n      <td>False</td>\n      <td>False</td>\n      <td>False</td>\n      <td>False</td>\n      <td>False</td>\n      <td>False</td>\n      <td>False</td>\n      <td>False</td>\n    </tr>\n    <tr>\n      <th>5</th>\n      <td>Devarachikkanahalli</td>\n      <td>947.0</td>\n      <td>2.0</td>\n      <td>43.0</td>\n      <td>2</td>\n      <td>True</td>\n      <td>False</td>\n      <td>False</td>\n      <td>False</td>\n      <td>False</td>\n      <td>...</td>\n      <td>False</td>\n      <td>False</td>\n      <td>False</td>\n      <td>False</td>\n      <td>False</td>\n      <td>False</td>\n      <td>False</td>\n      <td>False</td>\n      <td>False</td>\n      <td>False</td>\n    </tr>\n    <tr>\n      <th>...</th>\n      <td>...</td>\n      <td>...</td>\n      <td>...</td>\n      <td>...</td>\n      <td>...</td>\n      <td>...</td>\n      <td>...</td>\n      <td>...</td>\n      <td>...</td>\n      <td>...</td>\n      <td>...</td>\n      <td>...</td>\n      <td>...</td>\n      <td>...</td>\n      <td>...</td>\n      <td>...</td>\n      <td>...</td>\n      <td>...</td>\n      <td>...</td>\n      <td>...</td>\n      <td>...</td>\n    </tr>\n    <tr>\n      <th>10235</th>\n      <td>other</td>\n      <td>1200.0</td>\n      <td>2.0</td>\n      <td>70.0</td>\n      <td>2</td>\n      <td>False</td>\n      <td>False</td>\n      <td>False</td>\n      <td>False</td>\n      <td>False</td>\n      <td>...</td>\n      <td>False</td>\n      <td>False</td>\n      <td>False</td>\n      <td>False</td>\n      <td>False</td>\n      <td>False</td>\n      <td>False</td>\n      <td>False</td>\n      <td>False</td>\n      <td>False</td>\n    </tr>\n    <tr>\n      <th>10236</th>\n      <td>other</td>\n      <td>1800.0</td>\n      <td>1.0</td>\n      <td>200.0</td>\n      <td>1</td>\n      <td>False</td>\n      <td>False</td>\n      <td>False</td>\n      <td>False</td>\n      <td>False</td>\n      <td>...</td>\n      <td>False</td>\n      <td>False</td>\n      <td>False</td>\n      <td>False</td>\n      <td>False</td>\n      <td>False</td>\n      <td>False</td>\n      <td>False</td>\n      <td>False</td>\n      <td>False</td>\n    </tr>\n    <tr>\n      <th>10239</th>\n      <td>other</td>\n      <td>1353.0</td>\n      <td>2.0</td>\n      <td>110.0</td>\n      <td>2</td>\n      <td>False</td>\n      <td>False</td>\n      <td>False</td>\n      <td>False</td>\n      <td>False</td>\n      <td>...</td>\n      <td>False</td>\n      <td>False</td>\n      <td>False</td>\n      <td>False</td>\n      <td>False</td>\n      <td>False</td>\n      <td>False</td>\n      <td>False</td>\n      <td>False</td>\n      <td>False</td>\n    </tr>\n    <tr>\n      <th>10240</th>\n      <td>other</td>\n      <td>812.0</td>\n      <td>1.0</td>\n      <td>26.0</td>\n      <td>1</td>\n      <td>False</td>\n      <td>False</td>\n      <td>False</td>\n      <td>False</td>\n      <td>False</td>\n      <td>...</td>\n      <td>False</td>\n      <td>False</td>\n      <td>False</td>\n      <td>False</td>\n      <td>False</td>\n      <td>False</td>\n      <td>False</td>\n      <td>False</td>\n      <td>False</td>\n      <td>False</td>\n    </tr>\n    <tr>\n      <th>10243</th>\n      <td>other</td>\n      <td>3600.0</td>\n      <td>5.0</td>\n      <td>400.0</td>\n      <td>4</td>\n      <td>False</td>\n      <td>False</td>\n      <td>False</td>\n      <td>False</td>\n      <td>False</td>\n      <td>...</td>\n      <td>False</td>\n      <td>False</td>\n      <td>False</td>\n      <td>False</td>\n      <td>False</td>\n      <td>False</td>\n      <td>False</td>\n      <td>False</td>\n      <td>False</td>\n      <td>False</td>\n    </tr>\n  </tbody>\n</table>\n<p>7264 rows × 246 columns</p>\n</div>"
     },
     "execution_count": 54,
     "metadata": {},
     "output_type": "execute_result"
    }
   ],
   "source": [
    "df11 = pd.concat([df10,dummies.drop('other',axis='columns')],axis='columns')\n",
    "df11"
   ],
   "metadata": {
    "collapsed": false,
    "ExecuteTime": {
     "end_time": "2023-05-24T11:11:36.063587Z",
     "start_time": "2023-05-24T11:11:36.003045Z"
    }
   }
  },
  {
   "cell_type": "code",
   "execution_count": 58,
   "outputs": [
    {
     "data": {
      "text/plain": "       total_sqft  bath  price  bhk   Devarachikkanahalli   \n1          1250.0   2.0   40.0    2                  True  \\\n2          1200.0   2.0   83.0    2                  True   \n3          1170.0   2.0   40.0    2                  True   \n4          1425.0   2.0   65.0    3                  True   \n5           947.0   2.0   43.0    2                  True   \n...           ...   ...    ...  ...                   ...   \n10235      1200.0   2.0   70.0    2                 False   \n10236      1800.0   1.0  200.0    1                 False   \n10239      1353.0   2.0  110.0    2                 False   \n10240       812.0   1.0   26.0    1                 False   \n10243      3600.0   5.0  400.0    4                 False   \n\n       1st Block Jayanagar  1st Phase JP Nagar  2nd Phase Judicial Layout   \n1                    False               False                      False  \\\n2                    False               False                      False   \n3                    False               False                      False   \n4                    False               False                      False   \n5                    False               False                      False   \n...                    ...                 ...                        ...   \n10235                False               False                      False   \n10236                False               False                      False   \n10239                False               False                      False   \n10240                False               False                      False   \n10243                False               False                      False   \n\n       2nd Stage Nagarbhavi  5th Block Hbr Layout  ...  Vijayanagar   \n1                     False                 False  ...        False  \\\n2                     False                 False  ...        False   \n3                     False                 False  ...        False   \n4                     False                 False  ...        False   \n5                     False                 False  ...        False   \n...                     ...                   ...  ...          ...   \n10235                 False                 False  ...        False   \n10236                 False                 False  ...        False   \n10239                 False                 False  ...        False   \n10240                 False                 False  ...        False   \n10243                 False                 False  ...        False   \n\n       Vishveshwarya Layout  Vishwapriya Layout  Vittasandra  Whitefield   \n1                     False               False        False       False  \\\n2                     False               False        False       False   \n3                     False               False        False       False   \n4                     False               False        False       False   \n5                     False               False        False       False   \n...                     ...                 ...          ...         ...   \n10235                 False               False        False       False   \n10236                 False               False        False       False   \n10239                 False               False        False       False   \n10240                 False               False        False       False   \n10243                 False               False        False       False   \n\n       Yelachenahalli  Yelahanka  Yelahanka New Town  Yelenahalli   \n1               False      False               False        False  \\\n2               False      False               False        False   \n3               False      False               False        False   \n4               False      False               False        False   \n5               False      False               False        False   \n...               ...        ...                 ...          ...   \n10235           False      False               False        False   \n10236           False      False               False        False   \n10239           False      False               False        False   \n10240           False      False               False        False   \n10243           False      False               False        False   \n\n       Yeshwanthpur  \n1             False  \n2             False  \n3             False  \n4             False  \n5             False  \n...             ...  \n10235         False  \n10236         False  \n10239         False  \n10240         False  \n10243         False  \n\n[7264 rows x 245 columns]",
      "text/html": "<div>\n<style scoped>\n    .dataframe tbody tr th:only-of-type {\n        vertical-align: middle;\n    }\n\n    .dataframe tbody tr th {\n        vertical-align: top;\n    }\n\n    .dataframe thead th {\n        text-align: right;\n    }\n</style>\n<table border=\"1\" class=\"dataframe\">\n  <thead>\n    <tr style=\"text-align: right;\">\n      <th></th>\n      <th>total_sqft</th>\n      <th>bath</th>\n      <th>price</th>\n      <th>bhk</th>\n      <th>Devarachikkanahalli</th>\n      <th>1st Block Jayanagar</th>\n      <th>1st Phase JP Nagar</th>\n      <th>2nd Phase Judicial Layout</th>\n      <th>2nd Stage Nagarbhavi</th>\n      <th>5th Block Hbr Layout</th>\n      <th>...</th>\n      <th>Vijayanagar</th>\n      <th>Vishveshwarya Layout</th>\n      <th>Vishwapriya Layout</th>\n      <th>Vittasandra</th>\n      <th>Whitefield</th>\n      <th>Yelachenahalli</th>\n      <th>Yelahanka</th>\n      <th>Yelahanka New Town</th>\n      <th>Yelenahalli</th>\n      <th>Yeshwanthpur</th>\n    </tr>\n  </thead>\n  <tbody>\n    <tr>\n      <th>1</th>\n      <td>1250.0</td>\n      <td>2.0</td>\n      <td>40.0</td>\n      <td>2</td>\n      <td>True</td>\n      <td>False</td>\n      <td>False</td>\n      <td>False</td>\n      <td>False</td>\n      <td>False</td>\n      <td>...</td>\n      <td>False</td>\n      <td>False</td>\n      <td>False</td>\n      <td>False</td>\n      <td>False</td>\n      <td>False</td>\n      <td>False</td>\n      <td>False</td>\n      <td>False</td>\n      <td>False</td>\n    </tr>\n    <tr>\n      <th>2</th>\n      <td>1200.0</td>\n      <td>2.0</td>\n      <td>83.0</td>\n      <td>2</td>\n      <td>True</td>\n      <td>False</td>\n      <td>False</td>\n      <td>False</td>\n      <td>False</td>\n      <td>False</td>\n      <td>...</td>\n      <td>False</td>\n      <td>False</td>\n      <td>False</td>\n      <td>False</td>\n      <td>False</td>\n      <td>False</td>\n      <td>False</td>\n      <td>False</td>\n      <td>False</td>\n      <td>False</td>\n    </tr>\n    <tr>\n      <th>3</th>\n      <td>1170.0</td>\n      <td>2.0</td>\n      <td>40.0</td>\n      <td>2</td>\n      <td>True</td>\n      <td>False</td>\n      <td>False</td>\n      <td>False</td>\n      <td>False</td>\n      <td>False</td>\n      <td>...</td>\n      <td>False</td>\n      <td>False</td>\n      <td>False</td>\n      <td>False</td>\n      <td>False</td>\n      <td>False</td>\n      <td>False</td>\n      <td>False</td>\n      <td>False</td>\n      <td>False</td>\n    </tr>\n    <tr>\n      <th>4</th>\n      <td>1425.0</td>\n      <td>2.0</td>\n      <td>65.0</td>\n      <td>3</td>\n      <td>True</td>\n      <td>False</td>\n      <td>False</td>\n      <td>False</td>\n      <td>False</td>\n      <td>False</td>\n      <td>...</td>\n      <td>False</td>\n      <td>False</td>\n      <td>False</td>\n      <td>False</td>\n      <td>False</td>\n      <td>False</td>\n      <td>False</td>\n      <td>False</td>\n      <td>False</td>\n      <td>False</td>\n    </tr>\n    <tr>\n      <th>5</th>\n      <td>947.0</td>\n      <td>2.0</td>\n      <td>43.0</td>\n      <td>2</td>\n      <td>True</td>\n      <td>False</td>\n      <td>False</td>\n      <td>False</td>\n      <td>False</td>\n      <td>False</td>\n      <td>...</td>\n      <td>False</td>\n      <td>False</td>\n      <td>False</td>\n      <td>False</td>\n      <td>False</td>\n      <td>False</td>\n      <td>False</td>\n      <td>False</td>\n      <td>False</td>\n      <td>False</td>\n    </tr>\n    <tr>\n      <th>...</th>\n      <td>...</td>\n      <td>...</td>\n      <td>...</td>\n      <td>...</td>\n      <td>...</td>\n      <td>...</td>\n      <td>...</td>\n      <td>...</td>\n      <td>...</td>\n      <td>...</td>\n      <td>...</td>\n      <td>...</td>\n      <td>...</td>\n      <td>...</td>\n      <td>...</td>\n      <td>...</td>\n      <td>...</td>\n      <td>...</td>\n      <td>...</td>\n      <td>...</td>\n      <td>...</td>\n    </tr>\n    <tr>\n      <th>10235</th>\n      <td>1200.0</td>\n      <td>2.0</td>\n      <td>70.0</td>\n      <td>2</td>\n      <td>False</td>\n      <td>False</td>\n      <td>False</td>\n      <td>False</td>\n      <td>False</td>\n      <td>False</td>\n      <td>...</td>\n      <td>False</td>\n      <td>False</td>\n      <td>False</td>\n      <td>False</td>\n      <td>False</td>\n      <td>False</td>\n      <td>False</td>\n      <td>False</td>\n      <td>False</td>\n      <td>False</td>\n    </tr>\n    <tr>\n      <th>10236</th>\n      <td>1800.0</td>\n      <td>1.0</td>\n      <td>200.0</td>\n      <td>1</td>\n      <td>False</td>\n      <td>False</td>\n      <td>False</td>\n      <td>False</td>\n      <td>False</td>\n      <td>False</td>\n      <td>...</td>\n      <td>False</td>\n      <td>False</td>\n      <td>False</td>\n      <td>False</td>\n      <td>False</td>\n      <td>False</td>\n      <td>False</td>\n      <td>False</td>\n      <td>False</td>\n      <td>False</td>\n    </tr>\n    <tr>\n      <th>10239</th>\n      <td>1353.0</td>\n      <td>2.0</td>\n      <td>110.0</td>\n      <td>2</td>\n      <td>False</td>\n      <td>False</td>\n      <td>False</td>\n      <td>False</td>\n      <td>False</td>\n      <td>False</td>\n      <td>...</td>\n      <td>False</td>\n      <td>False</td>\n      <td>False</td>\n      <td>False</td>\n      <td>False</td>\n      <td>False</td>\n      <td>False</td>\n      <td>False</td>\n      <td>False</td>\n      <td>False</td>\n    </tr>\n    <tr>\n      <th>10240</th>\n      <td>812.0</td>\n      <td>1.0</td>\n      <td>26.0</td>\n      <td>1</td>\n      <td>False</td>\n      <td>False</td>\n      <td>False</td>\n      <td>False</td>\n      <td>False</td>\n      <td>False</td>\n      <td>...</td>\n      <td>False</td>\n      <td>False</td>\n      <td>False</td>\n      <td>False</td>\n      <td>False</td>\n      <td>False</td>\n      <td>False</td>\n      <td>False</td>\n      <td>False</td>\n      <td>False</td>\n    </tr>\n    <tr>\n      <th>10243</th>\n      <td>3600.0</td>\n      <td>5.0</td>\n      <td>400.0</td>\n      <td>4</td>\n      <td>False</td>\n      <td>False</td>\n      <td>False</td>\n      <td>False</td>\n      <td>False</td>\n      <td>False</td>\n      <td>...</td>\n      <td>False</td>\n      <td>False</td>\n      <td>False</td>\n      <td>False</td>\n      <td>False</td>\n      <td>False</td>\n      <td>False</td>\n      <td>False</td>\n      <td>False</td>\n      <td>False</td>\n    </tr>\n  </tbody>\n</table>\n<p>7264 rows × 245 columns</p>\n</div>"
     },
     "execution_count": 58,
     "metadata": {},
     "output_type": "execute_result"
    }
   ],
   "source": [
    "df12=df11.drop(columns=['location'])\n",
    "df12"
   ],
   "metadata": {
    "collapsed": false,
    "ExecuteTime": {
     "end_time": "2023-05-24T11:13:10.556815Z",
     "start_time": "2023-05-24T11:13:10.496485Z"
    }
   }
  },
  {
   "cell_type": "code",
   "execution_count": 59,
   "outputs": [],
   "source": [
    "X= df12.drop(columns=['price'])\n",
    "y=df12['price']"
   ],
   "metadata": {
    "collapsed": false,
    "ExecuteTime": {
     "end_time": "2023-05-24T11:13:21.191041Z",
     "start_time": "2023-05-24T11:13:21.169663Z"
    }
   }
  },
  {
   "cell_type": "code",
   "execution_count": 65,
   "outputs": [],
   "source": [
    "from sklearn.model_selection import train_test_split\n",
    "X_train, X_test,y_train,y_test=train_test_split(X,y,test_size=0.2,random_state=10)"
   ],
   "metadata": {
    "collapsed": false,
    "ExecuteTime": {
     "end_time": "2023-05-24T11:25:28.443132Z",
     "start_time": "2023-05-24T11:25:28.413265Z"
    }
   }
  },
  {
   "cell_type": "code",
   "execution_count": 68,
   "outputs": [
    {
     "data": {
      "text/plain": "0.7696224927820372"
     },
     "execution_count": 68,
     "metadata": {},
     "output_type": "execute_result"
    }
   ],
   "source": [
    "from sklearn.linear_model import LinearRegression\n",
    "lr_clf = LinearRegression()\n",
    "lr_clf.fit(X_train,y_train)\n",
    "lr_clf.score(X_test,y_test)"
   ],
   "metadata": {
    "collapsed": false,
    "ExecuteTime": {
     "end_time": "2023-05-24T11:27:21.858181Z",
     "start_time": "2023-05-24T11:27:21.583171Z"
    }
   }
  },
  {
   "cell_type": "code",
   "execution_count": 69,
   "outputs": [
    {
     "data": {
      "text/plain": "array([0.82622151, 0.81408431, 0.87757267, 0.84822717, 0.86091226,\n       0.86408669, 0.84046509, 0.87337804, 0.87527211, 0.80566077])"
     },
     "execution_count": 69,
     "metadata": {},
     "output_type": "execute_result"
    }
   ],
   "source": [
    "from sklearn.model_selection import ShuffleSplit\n",
    "from sklearn.model_selection import cross_val_score\n",
    "cv = ShuffleSplit(n_splits=10,test_size=0.2,random_state=0)\n",
    "\n",
    "cross_val_score(LinearRegression(),X,y,cv=cv)"
   ],
   "metadata": {
    "collapsed": false,
    "ExecuteTime": {
     "end_time": "2023-05-24T11:27:43.963515Z",
     "start_time": "2023-05-24T11:27:41.038089Z"
    }
   }
  },
  {
   "cell_type": "code",
   "execution_count": 72,
   "outputs": [
    {
     "name": "stderr",
     "output_type": "stream",
     "text": [
      "/Users/namanrajani/Desktop/dataAnalysis/.venv/lib/python3.11/site-packages/sklearn/model_selection/_validation.py:378: FitFailedWarning: \n",
      "10 fits failed out of a total of 20.\n",
      "The score on these train-test partitions for these parameters will be set to nan.\n",
      "If these failures are not expected, you can try to debug them by setting error_score='raise'.\n",
      "\n",
      "Below are more details about the failures:\n",
      "--------------------------------------------------------------------------------\n",
      "10 fits failed with the following error:\n",
      "Traceback (most recent call last):\n",
      "  File \"/Users/namanrajani/Desktop/dataAnalysis/.venv/lib/python3.11/site-packages/sklearn/model_selection/_validation.py\", line 686, in _fit_and_score\n",
      "    estimator.fit(X_train, y_train, **fit_params)\n",
      "  File \"/Users/namanrajani/Desktop/dataAnalysis/.venv/lib/python3.11/site-packages/sklearn/tree/_classes.py\", line 1247, in fit\n",
      "    super().fit(\n",
      "  File \"/Users/namanrajani/Desktop/dataAnalysis/.venv/lib/python3.11/site-packages/sklearn/tree/_classes.py\", line 177, in fit\n",
      "    self._validate_params()\n",
      "  File \"/Users/namanrajani/Desktop/dataAnalysis/.venv/lib/python3.11/site-packages/sklearn/base.py\", line 600, in _validate_params\n",
      "    validate_parameter_constraints(\n",
      "  File \"/Users/namanrajani/Desktop/dataAnalysis/.venv/lib/python3.11/site-packages/sklearn/utils/_param_validation.py\", line 97, in validate_parameter_constraints\n",
      "    raise InvalidParameterError(\n",
      "sklearn.utils._param_validation.InvalidParameterError: The 'criterion' parameter of DecisionTreeRegressor must be a str among {'absolute_error', 'poisson', 'friedman_mse', 'squared_error'}. Got 'mse' instead.\n",
      "\n",
      "  warnings.warn(some_fits_failed_message, FitFailedWarning)\n",
      "/Users/namanrajani/Desktop/dataAnalysis/.venv/lib/python3.11/site-packages/sklearn/model_selection/_search.py:952: UserWarning: One or more of the test scores are non-finite: [       nan        nan 0.63770733 0.58539369]\n",
      "  warnings.warn(\n"
     ]
    },
    {
     "data": {
      "text/plain": "               model  best_score   \n0  linear_regression    0.845847  \\\n1              lasso    0.709582   \n2      decision_tree    0.637707   \n\n                                         best_params  \n0                           {'fit_intercept': False}  \n1                {'alpha': 1, 'selection': 'random'}  \n2  {'criterion': 'friedman_mse', 'splitter': 'best'}  ",
      "text/html": "<div>\n<style scoped>\n    .dataframe tbody tr th:only-of-type {\n        vertical-align: middle;\n    }\n\n    .dataframe tbody tr th {\n        vertical-align: top;\n    }\n\n    .dataframe thead th {\n        text-align: right;\n    }\n</style>\n<table border=\"1\" class=\"dataframe\">\n  <thead>\n    <tr style=\"text-align: right;\">\n      <th></th>\n      <th>model</th>\n      <th>best_score</th>\n      <th>best_params</th>\n    </tr>\n  </thead>\n  <tbody>\n    <tr>\n      <th>0</th>\n      <td>linear_regression</td>\n      <td>0.845847</td>\n      <td>{'fit_intercept': False}</td>\n    </tr>\n    <tr>\n      <th>1</th>\n      <td>lasso</td>\n      <td>0.709582</td>\n      <td>{'alpha': 1, 'selection': 'random'}</td>\n    </tr>\n    <tr>\n      <th>2</th>\n      <td>decision_tree</td>\n      <td>0.637707</td>\n      <td>{'criterion': 'friedman_mse', 'splitter': 'best'}</td>\n    </tr>\n  </tbody>\n</table>\n</div>"
     },
     "execution_count": 72,
     "metadata": {},
     "output_type": "execute_result"
    }
   ],
   "source": [
    "from sklearn.model_selection import GridSearchCV\n",
    "from sklearn.tree import DecisionTreeRegressor\n",
    "from sklearn.linear_model import Lasso\n",
    "\n",
    "def find_best_model_using_GridSearchCV(X,y):\n",
    "    algos={\n",
    "        'linear_regression':{\n",
    "            'model':LinearRegression(),\n",
    "            'params':{\n",
    "                'fit_intercept':[True,False]\n",
    "            }\n",
    "        },\n",
    "        'lasso':{\n",
    "            'model':Lasso(),\n",
    "            'params':{\n",
    "                'alpha':[1,2],\n",
    "                'selection':['random','cyclic']\n",
    "\n",
    "            }\n",
    "        },\n",
    "        'decision_tree':{\n",
    "            'model':DecisionTreeRegressor(),\n",
    "            'params':{\n",
    "                'criterion':['mse','friedman_mse'],\n",
    "                'splitter':['best','random']\n",
    "            }\n",
    "        },\n",
    "    }\n",
    "    scores=[]\n",
    "    cv=ShuffleSplit(n_splits=5,test_size=0.2,random_state=0)\n",
    "    for algo_name,config in algos.items():\n",
    "        gs = GridSearchCV(config['model'],config['params'],cv=cv,return_train_score=False)\n",
    "        gs.fit(X,y)\n",
    "        scores.append({\n",
    "            'model':algo_name,\n",
    "            'best_score':gs.best_score_,\n",
    "            'best_params':gs.best_params_\n",
    "        })\n",
    "\n",
    "    return pd.DataFrame(scores,columns=['model','best_score','best_params'])\n",
    "find_best_model_using_GridSearchCV(X,y)"
   ],
   "metadata": {
    "collapsed": false,
    "ExecuteTime": {
     "end_time": "2023-05-24T11:43:08.883985Z",
     "start_time": "2023-05-24T11:43:02.341915Z"
    }
   }
  },
  {
   "cell_type": "code",
   "execution_count": 79,
   "outputs": [
    {
     "data": {
      "text/plain": "location\nother                    1144\nWhitefield                237\nSarjapur  Road            186\nElectronic City           161\nRaja Rajeshwari Nagar     140\n                         ... \nBanjara Layout              4\nNagasandra                  4\n2nd Stage Nagarbhavi        4\nThyagaraja Nagar            4\nMarsur                      3\nName: count, Length: 242, dtype: int64"
     },
     "execution_count": 79,
     "metadata": {},
     "output_type": "execute_result"
    }
   ],
   "source": [
    "df11['location'].value_counts()"
   ],
   "metadata": {
    "collapsed": false,
    "ExecuteTime": {
     "end_time": "2023-05-24T11:53:13.268011Z",
     "start_time": "2023-05-24T11:53:13.247364Z"
    }
   }
  },
  {
   "cell_type": "code",
   "execution_count": 81,
   "outputs": [
    {
     "data": {
      "text/plain": "Index(['total_sqft', 'bath', 'bhk', ' Devarachikkanahalli',\n       '1st Block Jayanagar', '1st Phase JP Nagar',\n       '2nd Phase Judicial Layout', '2nd Stage Nagarbhavi',\n       '5th Block Hbr Layout', '5th Phase JP Nagar',\n       ...\n       'Vijayanagar', 'Vishveshwarya Layout', 'Vishwapriya Layout',\n       'Vittasandra', 'Whitefield', 'Yelachenahalli', 'Yelahanka',\n       'Yelahanka New Town', 'Yelenahalli', 'Yeshwanthpur'],\n      dtype='object', length=244)"
     },
     "execution_count": 81,
     "metadata": {},
     "output_type": "execute_result"
    }
   ],
   "source": [
    "X.columns"
   ],
   "metadata": {
    "collapsed": false,
    "ExecuteTime": {
     "end_time": "2023-05-24T11:54:17.343336Z",
     "start_time": "2023-05-24T11:54:17.333554Z"
    }
   }
  },
  {
   "cell_type": "code",
   "execution_count": null,
   "outputs": [],
   "source": [],
   "metadata": {
    "collapsed": false
   }
  },
  {
   "cell_type": "code",
   "execution_count": 91,
   "outputs": [
    {
     "name": "stderr",
     "output_type": "stream",
     "text": [
      "/Users/namanrajani/Desktop/dataAnalysis/.venv/lib/python3.11/site-packages/sklearn/base.py:439: UserWarning: X does not have valid feature names, but LinearRegression was fitted with feature names\n",
      "  warnings.warn(\n"
     ]
    },
    {
     "data": {
      "text/plain": "184.84961837068425"
     },
     "execution_count": 91,
     "metadata": {},
     "output_type": "execute_result"
    }
   ],
   "source": [
    "def predict_price(loc,sqft,bath,bhk):\n",
    "    loc_index=np.where(X.columns==loc)[0][0]\n",
    "    x=np.zeros(len(X.columns))\n",
    "    x[0]=sqft\n",
    "    x[1]=bath\n",
    "    x[2]=bhk\n",
    "    if loc_index >= 0:\n",
    "        x[loc_index]=1\n",
    "    return lr_clf.predict([x])[0]\n",
    "\n",
    "predict_price(\"Indira Nagar\",1000,2,3)"
   ],
   "metadata": {
    "collapsed": false,
    "ExecuteTime": {
     "end_time": "2023-05-24T11:56:31.446331Z",
     "start_time": "2023-05-24T11:56:31.436830Z"
    }
   }
  },
  {
   "cell_type": "code",
   "execution_count": 93,
   "outputs": [],
   "source": [
    "import pickle\n",
    "with open('models/BHPModel.pickle','wb')as f:\n",
    "    pickle.dump(lr_clf,f)"
   ],
   "metadata": {
    "collapsed": false,
    "ExecuteTime": {
     "end_time": "2023-05-24T11:58:56.882905Z",
     "start_time": "2023-05-24T11:58:56.869857Z"
    }
   }
  },
  {
   "cell_type": "code",
   "execution_count": 96,
   "outputs": [],
   "source": [
    "import json\n",
    "columns={\n",
    "    'data_columns':[col.lower() for col in X.columns]\n",
    "\n",
    "}\n",
    "with open('models/BHPColumns.json','w') as f:\n",
    "    f.write(json.dumps(columns))"
   ],
   "metadata": {
    "collapsed": false,
    "ExecuteTime": {
     "end_time": "2023-05-24T12:01:48.476568Z",
     "start_time": "2023-05-24T12:01:48.451132Z"
    }
   }
  },
  {
   "cell_type": "code",
   "execution_count": null,
   "outputs": [],
   "source": [],
   "metadata": {
    "collapsed": false
   }
  }
 ],
 "metadata": {
  "kernelspec": {
   "display_name": "Python 3",
   "language": "python",
   "name": "python3"
  },
  "language_info": {
   "codemirror_mode": {
    "name": "ipython",
    "version": 2
   },
   "file_extension": ".py",
   "mimetype": "text/x-python",
   "name": "python",
   "nbconvert_exporter": "python",
   "pygments_lexer": "ipython2",
   "version": "2.7.6"
  }
 },
 "nbformat": 4,
 "nbformat_minor": 0
}
